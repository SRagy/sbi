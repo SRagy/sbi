{
 "cells": [
  {
   "cell_type": "code",
   "execution_count": 93,
   "metadata": {},
   "outputs": [],
   "source": [
    "import pyprob\n",
    "import numpy as np\n",
    "import ot\n",
    "import torch\n",
    "import cProfile\n",
    "import pickle\n",
    "\n",
    "from pyprob.dis import ModelDIS\n",
    "from showerSim import invMass_ginkgo\n",
    "from torch.utils.data import DataLoader\n",
    "from pyprob.nn.dataset import OnlineDataset\n",
    "from pyprob.util import InferenceEngine\n",
    "from pyprob.util import to_tensor\n",
    "from pyprob import Model\n",
    "import math\n",
    "from pyprob.distributions import Normal\n",
    "from pyprob.distributions.delta import Delta\n",
    "\n",
    "\n",
    "import matplotlib as mpl\n",
    "import matplotlib.pyplot as plt\n",
    "from mpl_toolkits.mplot3d import Axes3D\n",
    "import matplotlib.cm as mpl_cm\n",
    "plt.ion()\n",
    "\n",
    "from sbi import utils\n",
    "from sbi import analysis\n",
    "from sbi.inference.base import infer\n",
    "from sbi.inference import SNPE, prepare_for_sbi, simulate_for_sbi\n",
    "from sbi.utils.get_nn_models import posterior_nn\n",
    "\n",
    "\n",
    "import sklearn as skl\n",
    "from sklearn.linear_model import LinearRegression\n",
    "from tqdm import tqdm\n",
    "from joblib import Parallel, delayed\n",
    "from torch.nn.functional import pad"
   ]
  },
  {
   "cell_type": "markdown",
   "metadata": {},
   "source": [
    "# Ginkgo SBI Examples"
   ]
  },
  {
   "cell_type": "markdown",
   "metadata": {},
   "source": [
    "This notebook contains some baseline examples for performing inference for the rate parameters of Ginkgo in the SBI package. We've been using the versio of ginkgo written for pyprob, but this notebook doesn't use any pyprob-specific features, and it likely the pyro version could be easily substituted. We begin by defining summary statistics for the simulator. We begin by defining the simulator and prior distribution on the two rate parameters."
   ]
  },
  {
   "cell_type": "code",
   "execution_count": 94,
   "metadata": {},
   "outputs": [],
   "source": [
    "QCD_mass = to_tensor(30.)\n",
    "#rate=to_tensor([QCD_rate,QCD_rate]) #Entries: [root node, every other node] decaying rates. Choose same values for a QCD jet\n",
    "jetdir = to_tensor([1.,1.,1.])\n",
    "jetP = to_tensor(400.)\n",
    "jetvec = jetP * jetdir / torch.linalg.norm(jetdir) ## Jetvec is 3-momentum. JetP is relativistic p.\n",
    "\n",
    "\n",
    "# Actual parameters\n",
    "pt_min = to_tensor(0.3**2)\n",
    "M2start = to_tensor(QCD_mass**2)\n",
    "jetM = torch.sqrt(M2start) ## Mass of initial jet\n",
    "jet4vec = torch.cat((torch.sqrt(jetP**2 + jetM**2).reshape(-1), jetvec))\n",
    "minLeaves = 1\n",
    "maxLeaves = 10000 # unachievable, to prevent rejections\n",
    "maxNTry = 100\n",
    "\n",
    "\n",
    "ginkgo_simulator = invMass_ginkgo.SimulatorModel(jet_p=jet4vec,  # parent particle 4-vector\n",
    "                                    pt_cut=float(pt_min),  # minimum pT for resulting jet\n",
    "                                    Delta_0= M2start,  # parent particle mass squared -> needs tensor\n",
    "                                    M_hard=jetM,  # parent particle mass\n",
    "                                    minLeaves=1,  # minimum number of jet constituents\n",
    "                                    maxLeaves=10000,  # maximum number of jet constituents (a large value to stop expensive simulator runs)\n",
    "                                    suppress_output=True)\n",
    "\n",
    "# Set maxLeaves to 50 - not used in notebook.\n",
    "ginkgo_simulator_clip = invMass_ginkgo.SimulatorModel(jet_p=jet4vec,  # parent particle 4-vector\n",
    "                                    pt_cut=float(pt_min),  # minimum pT for resulting jet\n",
    "                                    Delta_0= M2start,  # parent particle mass squared -> needs tensor\n",
    "                                    M_hard=jetM,  # parent particle mass\n",
    "                                    minLeaves=1,  # minimum number of jet constituents\n",
    "                                    maxLeaves=50,  # maximum number of jet constituents (a large value to stop expensive simulator runs)\n",
    "                                    suppress_output=True)"
   ]
  },
  {
   "cell_type": "code",
   "execution_count": 95,
   "metadata": {},
   "outputs": [],
   "source": [
    "prior_min = [1e-3,1e-3]\n",
    "prior_max = [30.,30.]\n",
    "prior_full = utils.torchutils.BoxUniform(low=torch.as_tensor(prior_min), \n",
    "                                    high=torch.as_tensor(prior_max))"
   ]
  },
  {
   "cell_type": "markdown",
   "metadata": {},
   "source": [
    "## Summaries\n",
    "We consider the full data to be the leaves. The first summary involve flattening the leaves and padding to length 200. We first sort the leaves according to energy. If the flattened data is greater than this length, then we truncate. In most cases, we're unlikely to be truncating:"
   ]
  },
  {
   "cell_type": "code",
   "execution_count": 14,
   "metadata": {},
   "outputs": [
    {
     "name": "stdout",
     "output_type": "stream",
     "text": [
      "22\n",
      "[tensor([3.7388, 0.9413]), tensor([0.8738, 0.5943]), tensor([3.8216, 0.7047]), tensor([1.0014, 0.8353]), tensor([4.3885, 0.4755]), tensor([3.7820, 1.7459]), tensor([0.3207, 0.9192]), tensor([1.5383, 0.6471]), tensor([2.7359, 1.3874]), tensor([0.0997, 0.0308]), tensor([0.2766, 0.1415]), tensor([5.8230, 1.5074]), tensor([18.5364,  0.8376]), tensor([6.3209, 0.4741]), tensor([26.6979,  0.6101]), tensor([9.7706, 0.2359]), tensor([5.3359, 0.2355]), tensor([6.4797, 0.1496]), tensor([11.3360,  0.1557]), tensor([7.6486, 1.1148]), tensor([6.9769, 0.0774]), tensor([0.9597, 0.9551])]\n"
     ]
    }
   ],
   "source": [
    "count = 0\n",
    "to_truncate = []\n",
    "for _ in range(2000):\n",
    "    sample = prior_full.sample()\n",
    "    if (len(ginkgo_simulator(sample)['leaves']))>50:\n",
    "        count+=1\n",
    "        to_truncate.append(sample)\n",
    "print(count)\n",
    "print(to_truncate)"
   ]
  },
  {
   "cell_type": "markdown",
   "metadata": {},
   "source": [
    "We can see from the above, that ~1% of samples are truncated. This tends to occur for small values of internal rate. The root rate has smaller impact."
   ]
  },
  {
   "cell_type": "code",
   "execution_count": 4,
   "metadata": {},
   "outputs": [],
   "source": [
    "def full_flat(leaves):\n",
    "    \n",
    "    flattened = leaves[leaves[:, 0].sort()[1]].reshape(-1)\n",
    "    \n",
    "    length = len(flattened)\n",
    "\n",
    "    if length >= 200:\n",
    "        return flattened[:200]\n",
    "    else:\n",
    "        pad_length = 200 - length\n",
    "        return pad(flattened,(0,pad_length))"
   ]
  },
  {
   "cell_type": "markdown",
   "metadata": {},
   "source": [
    "We also define a second set of summaries as the first four moments of the energy. "
   ]
  },
  {
   "cell_type": "code",
   "execution_count": 15,
   "metadata": {},
   "outputs": [],
   "source": [
    "def e_summaries(leaves):\n",
    "    num_leaves = len(leaves)\n",
    "    energies = leaves[:,0]\n",
    "    e_mean = energies.mean() # total energy / num leaves\n",
    "    e_std = energies.std()\n",
    "    \n",
    "    def nthmoment(n):\n",
    "        return torch.sum((energies - e_mean)**n/((num_leaves -1)*e_std**n))\n",
    "\n",
    "    e_skewness = nthmoment(3)\n",
    "    e_kurtosis = nthmoment(4)\n",
    "\n",
    "    return torch.tensor([e_mean, e_std, e_skewness, e_kurtosis])"
   ]
  },
  {
   "cell_type": "markdown",
   "metadata": {},
   "source": [
    "### Simulator wrapper and observations\n",
    "For easy compatibility with sbi package, we define the below function."
   ]
  },
  {
   "cell_type": "code",
   "execution_count": 35,
   "metadata": {},
   "outputs": [],
   "source": [
    "def get_simulator(summary_fn):\n",
    "\n",
    "    def simulator(params):\n",
    "        leaves = ginkgo_simulator(params)['leaves']\n",
    "        return summary_fn(leaves)\n",
    "\n",
    "    return simulator"
   ]
  },
  {
   "cell_type": "code",
   "execution_count": 36,
   "metadata": {},
   "outputs": [],
   "source": [
    "flat_sim = get_simulator(full_flat)\n",
    "e_sim = get_simulator(e_summaries)"
   ]
  },
  {
   "cell_type": "markdown",
   "metadata": {},
   "source": [
    "We also define a simple class to capture observations and summaries."
   ]
  },
  {
   "cell_type": "code",
   "execution_count": 43,
   "metadata": {},
   "outputs": [],
   "source": [
    "class GinkObs:\n",
    "    def __init__(self, params):\n",
    "        self.params = to_tensor(params)\n",
    "        self.leaves = ginkgo_simulator(params)['leaves']\n",
    "        self.flat_sum = full_flat(self.leaves)\n",
    "        self.e_sum = e_summaries(self.leaves)"
   ]
  },
  {
   "cell_type": "code",
   "execution_count": 44,
   "metadata": {},
   "outputs": [],
   "source": [
    "R3L2 = GinkObs([3,2])\n",
    "R15L2 = GinkObs([15,2])\n",
    "R25L2 = GinkObs([25,2])\n",
    "\n",
    "R25L25 = GinkObs([25,25])"
   ]
  },
  {
   "cell_type": "markdown",
   "metadata": {},
   "source": [
    "## Single round inference (amortised)"
   ]
  },
  {
   "cell_type": "code",
   "execution_count": 38,
   "metadata": {},
   "outputs": [
    {
     "data": {
      "application/vnd.jupyter.widget-view+json": {
       "model_id": "b85e2a6f6dab49dbb66c3c646df618e3",
       "version_major": 2,
       "version_minor": 0
      },
      "text/plain": [
       "Running 5000 simulations in 5000 batches.:   0%|          | 0/5000 [00:00<?, ?it/s]"
      ]
     },
     "metadata": {},
     "output_type": "display_data"
    },
    {
     "name": "stdout",
     "output_type": "stream",
     "text": [
      "[pyKeOps]: Warning, no cuda detected. Switching to cpu only.\n",
      "[pyKeOps]: Warning, no cuda detected. Switching to cpu only.\n",
      "[pyKeOps]: Warning, no cuda detected. Switching to cpu only.\n",
      "[pyKeOps]: Warning, no cuda detected. Switching to cpu only.\n",
      "[pyKeOps]: Warning, no cuda detected. Switching to cpu only.\n",
      "[pyKeOps]: Warning, no cuda detected. Switching to cpu only.\n",
      "[pyKeOps]: Warning, no cuda detected. Switching to cpu only.\n",
      " Neural network successfully converged after 40 epochs."
     ]
    }
   ],
   "source": [
    "flat_posterior = infer(flat_sim, prior_full, method='SNPE', num_simulations=5000, num_workers=7)"
   ]
  },
  {
   "cell_type": "code",
   "execution_count": 65,
   "metadata": {},
   "outputs": [
    {
     "data": {
      "application/vnd.jupyter.widget-view+json": {
       "model_id": "d5a6f9c6735747438cd347ad17d15388",
       "version_major": 2,
       "version_minor": 0
      },
      "text/plain": [
       "Drawing 10000 posterior samples:   0%|          | 0/10000 [00:00<?, ?it/s]"
      ]
     },
     "metadata": {},
     "output_type": "display_data"
    },
    {
     "data": {
      "image/png": "[encoded data removed]",
      "text/plain": [
       "<Figure size 360x360 with 4 Axes>"
      ]
     },
     "metadata": {
      "needs_background": "light"
     },
     "output_type": "display_data"
    },
    {
     "data": {
      "application/vnd.jupyter.widget-view+json": {
       "model_id": "8d7690371cc14ed297b689d91d0c2f31",
       "version_major": 2,
       "version_minor": 0
      },
      "text/plain": [
       "Drawing 10000 posterior samples:   0%|          | 0/10000 [00:00<?, ?it/s]"
      ]
     },
     "metadata": {},
     "output_type": "display_data"
    },
    {
     "data": {
      "image/png": "[encoded data removed]",
      "text/plain": [
       "<Figure size 360x360 with 4 Axes>"
      ]
     },
     "metadata": {
      "needs_background": "light"
     },
     "output_type": "display_data"
    },
    {
     "data": {
      "application/vnd.jupyter.widget-view+json": {
       "model_id": "7925380600454a47a5c1e04de1557cc7",
       "version_major": 2,
       "version_minor": 0
      },
      "text/plain": [
       "Drawing 10000 posterior samples:   0%|          | 0/10000 [00:00<?, ?it/s]"
      ]
     },
     "metadata": {},
     "output_type": "display_data"
    },
    {
     "data": {
      "image/png": "[encoded data removed]",
      "text/plain": [
       "<Figure size 360x360 with 4 Axes>"
      ]
     },
     "metadata": {
      "needs_background": "light"
     },
     "output_type": "display_data"
    },
    {
     "data": {
      "application/vnd.jupyter.widget-view+json": {
       "model_id": "52f3668da3214173afdc17f64035810b",
       "version_major": 2,
       "version_minor": 0
      },
      "text/plain": [
       "Drawing 10000 posterior samples:   0%|          | 0/10000 [00:00<?, ?it/s]"
      ]
     },
     "metadata": {},
     "output_type": "display_data"
    },
    {
     "data": {
      "image/png": "[encoded data removed]",
      "text/plain": [
       "<Figure size 360x360 with 4 Axes>"
      ]
     },
     "metadata": {
      "needs_background": "light"
     },
     "output_type": "display_data"
    }
   ],
   "source": [
    "def pair_plt(posterior, obs):\n",
    "    if posterior == e_posterior:\n",
    "        samples = posterior.sample((10000,),x=obs.e_sum)\n",
    "        fig, axes = analysis.pairplot(samples,\n",
    "                            limits=[[1e-3,30.], [1e-3,30.]],\n",
    "                            ticks=[[1e-3,30.], [1e-3,30.]],\n",
    "                            figsize=(5,5),\n",
    "                            points=obs.params,\n",
    "                            points_offdiag={'markersize': 6},\n",
    "                            points_colors='r');\n",
    "        plt.show()\n",
    "    elif posterior == flat_posterior:\n",
    "        samples = posterior.sample((10000,),x=obs.flat_sum)\n",
    "        fig, axes = analysis.pairplot(samples,\n",
    "                            limits=[[1e-3,30.], [1e-3,30.]],\n",
    "                            ticks=[[1e-3,30.], [1e-3,30.]],\n",
    "                            figsize=(5,5),\n",
    "                            points=obs.params,\n",
    "                            points_offdiag={'markersize': 6},\n",
    "                            points_colors='r');\n",
    "        plt.show()\n",
    "    \n",
    "\n",
    "pair_plt(flat_posterior, R3L2)\n",
    "pair_plt(flat_posterior, R15L2)\n",
    "pair_plt(flat_posterior, R25L2)\n",
    "pair_plt(flat_posterior, R25L25)"
   ]
  },
  {
   "cell_type": "code",
   "execution_count": 46,
   "metadata": {},
   "outputs": [
    {
     "data": {
      "application/vnd.jupyter.widget-view+json": {
       "model_id": "014c05b7447c47f8b44d6270f46391dc",
       "version_major": 2,
       "version_minor": 0
      },
      "text/plain": [
       "Running 5000 simulations in 5000 batches.:   0%|          | 0/5000 [00:00<?, ?it/s]"
      ]
     },
     "metadata": {},
     "output_type": "display_data"
    },
    {
     "name": "stdout",
     "output_type": "stream",
     "text": [
      "[pyKeOps]: Warning, no cuda detected. Switching to cpu only.\n",
      "[pyKeOps]: Warning, no cuda detected. Switching to cpu only.\n",
      "[pyKeOps]: Warning, no cuda detected. Switching to cpu only.\n",
      "[pyKeOps]: Warning, no cuda detected. Switching to cpu only.\n",
      "[pyKeOps]: Warning, no cuda detected. Switching to cpu only.\n",
      "[pyKeOps]: Warning, no cuda detected. Switching to cpu only.\n",
      "[pyKeOps]: Warning, no cuda detected. Switching to cpu only.\n",
      " Neural network successfully converged after 88 epochs."
     ]
    }
   ],
   "source": [
    "e_posterior = infer(e_sim, prior_full, method='SNPE', num_simulations=5000, num_workers=7)"
   ]
  },
  {
   "cell_type": "code",
   "execution_count": 66,
   "metadata": {},
   "outputs": [
    {
     "data": {
      "application/vnd.jupyter.widget-view+json": {
       "model_id": "1859b735a222446f8aca0be45fefcd0f",
       "version_major": 2,
       "version_minor": 0
      },
      "text/plain": [
       "Drawing 10000 posterior samples:   0%|          | 0/10000 [00:00<?, ?it/s]"
      ]
     },
     "metadata": {},
     "output_type": "display_data"
    },
    {
     "data": {
      "image/png": "[encoded data removed]",
      "text/plain": [
       "<Figure size 360x360 with 4 Axes>"
      ]
     },
     "metadata": {
      "needs_background": "light"
     },
     "output_type": "display_data"
    },
    {
     "data": {
      "application/vnd.jupyter.widget-view+json": {
       "model_id": "e334532cfb914bb8849021c2e7a4128d",
       "version_major": 2,
       "version_minor": 0
      },
      "text/plain": [
       "Drawing 10000 posterior samples:   0%|          | 0/10000 [00:00<?, ?it/s]"
      ]
     },
     "metadata": {},
     "output_type": "display_data"
    },
    {
     "data": {
      "image/png": "[encoded data removed]",
      "text/plain": [
       "<Figure size 360x360 with 4 Axes>"
      ]
     },
     "metadata": {
      "needs_background": "light"
     },
     "output_type": "display_data"
    },
    {
     "data": {
      "application/vnd.jupyter.widget-view+json": {
       "model_id": "6fc0c4aa2cfc457793285a8ed00fb623",
       "version_major": 2,
       "version_minor": 0
      },
      "text/plain": [
       "Drawing 10000 posterior samples:   0%|          | 0/10000 [00:00<?, ?it/s]"
      ]
     },
     "metadata": {},
     "output_type": "display_data"
    },
    {
     "data": {
      "image/png": "[encoded data removed]",
      "text/plain": [
       "<Figure size 360x360 with 4 Axes>"
      ]
     },
     "metadata": {
      "needs_background": "light"
     },
     "output_type": "display_data"
    },
    {
     "data": {
      "application/vnd.jupyter.widget-view+json": {
       "model_id": "5d4ba22411f24846bd3479d6f19331d8",
       "version_major": 2,
       "version_minor": 0
      },
      "text/plain": [
       "Drawing 10000 posterior samples:   0%|          | 0/10000 [00:00<?, ?it/s]"
      ]
     },
     "metadata": {},
     "output_type": "display_data"
    },
    {
     "data": {
      "image/png": "[encoded data removed]",
      "text/plain": [
       "<Figure size 360x360 with 4 Axes>"
      ]
     },
     "metadata": {
      "needs_background": "light"
     },
     "output_type": "display_data"
    }
   ],
   "source": [
    "\n",
    "pair_plt(e_posterior, R3L2)\n",
    "pair_plt(e_posterior, R15L2)\n",
    "pair_plt(e_posterior, R25L2)\n",
    "pair_plt(e_posterior, R25L25)"
   ]
  },
  {
   "cell_type": "markdown",
   "metadata": {},
   "source": [
    "## MSE"
   ]
  },
  {
   "cell_type": "code",
   "execution_count": 72,
   "metadata": {},
   "outputs": [],
   "source": [
    "def MSE(samples, true_params):\n",
    "    loss = torch.nn.MSELoss()\n",
    "    return loss(samples, true_params)\n",
    "    \n",
    "def MSE_list(posterior_list, summary_fn_list, param_list, mean = True):\n",
    "\n",
    "    data_list = [ginkgo_simulator(param)['leaves'] for param in param_list]\n",
    "    \n",
    "    assert len(posterior_list) == len(summary_fn_list), \"posteriors must be in 1-to-1 correspondence to the summaries\"\n",
    "\n",
    "    MSE_list = []\n",
    "    for i in range(len(posterior_list)):\n",
    "        posterior = posterior_list[i]\n",
    "        summary_fn = summary_fn_list[i]  \n",
    "        MSE_for_posterior = []\n",
    "        for j in range(len(data_list)):\n",
    "            summary = summary_fn(data_list[j])\n",
    "            samples = posterior.sample((1000,),x=summary,show_progress_bars = False)\n",
    "            MSE_for_posterior.append(MSE(samples, param_list[j]))\n",
    "\n",
    "        if mean:\n",
    "            MSE_list.append(torch.tensor(MSE_for_posterior).mean())\n",
    "        else:\n",
    "            MSE_list.append(MSE_for_posterior)\n",
    "\n",
    "    return MSE_list"
   ]
  },
  {
   "cell_type": "code",
   "execution_count": 74,
   "metadata": {},
   "outputs": [
    {
     "name": "stdout",
     "output_type": "stream",
     "text": [
      "[tensor(67.5547), tensor(56.5072)]\n",
      "[tensor(42.6735), tensor(47.2148)]\n",
      "[tensor(107.1754), tensor(135.0858)]\n",
      "[tensor(80.4978), tensor(76.8527)]\n"
     ]
    }
   ],
   "source": [
    "posteriors = [flat_posterior, e_posterior]\n",
    "summary_fns = [full_flat, e_summaries]\n",
    "print(MSE_list(posteriors, summary_fns, [torch.tensor([3,2])]*100))\n",
    "print(MSE_list(posteriors, summary_fns, [torch.tensor([15,2])]*100))\n",
    "print(MSE_list(posteriors, summary_fns, [torch.tensor([25,2])]*100))\n",
    "print(MSE_list(posteriors, summary_fns, [torch.tensor([25,25])]*100))"
   ]
  },
  {
   "cell_type": "markdown",
   "metadata": {},
   "source": [
    "## Multiple round inference (doesn't seem to help here)"
   ]
  },
  {
   "cell_type": "code",
   "execution_count": null,
   "metadata": {},
   "outputs": [],
   "source": [
    "num_rounds = 10\n",
    "flat_posteriors = []\n",
    "simulator, prior = prepare_for_sbi(flat_sim, prior_full)\n",
    "proposal = prior\n",
    "inference = SNPE(prior=prior)\n",
    "for i in range(num_rounds):\n",
    "    theta, x = simulate_for_sbi(simulator, proposal, num_simulations=2000, num_workers=7)\n",
    "    density_estimator = inference.append_simulations(theta, x, proposal=proposal).train()\n",
    "    posterior = inference.build_posterior(density_estimator)\n",
    "    posteriors.append(posterior)\n",
    "    proposal = posterior.set_default_x(R3L2)\n",
    "    samples = posterior.sample((10000,))\n",
    "    fig, axes = analysis.pairplot(samples,\n",
    "                            limits=[[1e-3,30.], [1e-3,30.]],\n",
    "                            ticks=[[1e-3,30.], [1e-3,30.]],\n",
    "                            figsize=(5,5),\n",
    "                            points=np.array([25,25]),\n",
    "                            points_offdiag={'markersize': 6},\n",
    "                            points_colors='r');\n",
    "plt.show()"
   ]
  },
  {
   "cell_type": "code",
   "execution_count": 78,
   "metadata": {},
   "outputs": [
    {
     "data": {
      "application/vnd.jupyter.widget-view+json": {
       "model_id": "fba7a8a63b54466a977768576d3be219",
       "version_major": 2,
       "version_minor": 0
      },
      "text/plain": [
       "Running 2000 simulations in 2000 batches.:   0%|          | 0/2000 [00:00<?, ?it/s]"
      ]
     },
     "metadata": {},
     "output_type": "display_data"
    },
    {
     "name": "stdout",
     "output_type": "stream",
     "text": [
      " Neural network successfully converged after 50 epochs."
     ]
    },
    {
     "data": {
      "application/vnd.jupyter.widget-view+json": {
       "model_id": "8db2864e7e1641fb8bd38166c245e2f0",
       "version_major": 2,
       "version_minor": 0
      },
      "text/plain": [
       "Drawing 10000 posterior samples:   0%|          | 0/10000 [00:00<?, ?it/s]"
      ]
     },
     "metadata": {},
     "output_type": "display_data"
    },
    {
     "name": "stdout",
     "output_type": "stream",
     "text": [
      "tensor(72.0215)\n"
     ]
    },
    {
     "name": "stderr",
     "output_type": "stream",
     "text": [
      "/home/sragy/anaconda3/envs/sbi/lib/python3.8/site-packages/torch/nn/modules/loss.py:529: UserWarning: Using a target size (torch.Size([2])) that is different to the input size (torch.Size([10000, 2])). This will likely lead to incorrect results due to broadcasting. Please ensure they have the same size.\n",
      "  return F.mse_loss(input, target, reduction=self.reduction)\n"
     ]
    },
    {
     "data": {
      "application/vnd.jupyter.widget-view+json": {
       "model_id": "b823b34386d440c396daacc1737ffdff",
       "version_major": 2,
       "version_minor": 0
      },
      "text/plain": [
       "Drawing 2000 posterior samples:   0%|          | 0/2000 [00:00<?, ?it/s]"
      ]
     },
     "metadata": {},
     "output_type": "display_data"
    },
    {
     "data": {
      "application/vnd.jupyter.widget-view+json": {
       "model_id": "821b3b9cc08344ac822b88bb27015e9a",
       "version_major": 2,
       "version_minor": 0
      },
      "text/plain": [
       "Running 2000 simulations in 2000 batches.:   0%|          | 0/2000 [00:00<?, ?it/s]"
      ]
     },
     "metadata": {},
     "output_type": "display_data"
    },
    {
     "name": "stdout",
     "output_type": "stream",
     "text": [
      "Using SNPE-C with atomic loss\n",
      " Neural network successfully converged after 23 epochs."
     ]
    },
    {
     "data": {
      "application/vnd.jupyter.widget-view+json": {
       "model_id": "71a78151ebfa47fc8c69dbabb72733ee",
       "version_major": 2,
       "version_minor": 0
      },
      "text/plain": [
       "Drawing 10000 posterior samples:   0%|          | 0/10000 [00:00<?, ?it/s]"
      ]
     },
     "metadata": {},
     "output_type": "display_data"
    },
    {
     "name": "stdout",
     "output_type": "stream",
     "text": [
      "tensor(78.2599)\n"
     ]
    },
    {
     "data": {
      "application/vnd.jupyter.widget-view+json": {
       "model_id": "228e65a04e564dba85db0562e3ee9298",
       "version_major": 2,
       "version_minor": 0
      },
      "text/plain": [
       "Drawing 2000 posterior samples:   0%|          | 0/2000 [00:00<?, ?it/s]"
      ]
     },
     "metadata": {},
     "output_type": "display_data"
    },
    {
     "data": {
      "application/vnd.jupyter.widget-view+json": {
       "model_id": "bda6f93503fd4fdb83829c9a9a527e6e",
       "version_major": 2,
       "version_minor": 0
      },
      "text/plain": [
       "Running 2000 simulations in 2000 batches.:   0%|          | 0/2000 [00:00<?, ?it/s]"
      ]
     },
     "metadata": {},
     "output_type": "display_data"
    },
    {
     "name": "stdout",
     "output_type": "stream",
     "text": [
      "Using SNPE-C with atomic loss\n",
      " Neural network successfully converged after 25 epochs."
     ]
    },
    {
     "data": {
      "application/vnd.jupyter.widget-view+json": {
       "model_id": "8895063e9742435390ede89d0a375677",
       "version_major": 2,
       "version_minor": 0
      },
      "text/plain": [
       "Drawing 10000 posterior samples:   0%|          | 0/10000 [00:00<?, ?it/s]"
      ]
     },
     "metadata": {},
     "output_type": "display_data"
    },
    {
     "name": "stdout",
     "output_type": "stream",
     "text": [
      "tensor(67.6158)\n"
     ]
    },
    {
     "data": {
      "application/vnd.jupyter.widget-view+json": {
       "model_id": "cfb8c70d563a4f58844ca17537199010",
       "version_major": 2,
       "version_minor": 0
      },
      "text/plain": [
       "Drawing 2000 posterior samples:   0%|          | 0/2000 [00:00<?, ?it/s]"
      ]
     },
     "metadata": {},
     "output_type": "display_data"
    },
    {
     "data": {
      "application/vnd.jupyter.widget-view+json": {
       "model_id": "378bfbaa75c542379441963af66f1da6",
       "version_major": 2,
       "version_minor": 0
      },
      "text/plain": [
       "Running 2000 simulations in 2000 batches.:   0%|          | 0/2000 [00:00<?, ?it/s]"
      ]
     },
     "metadata": {},
     "output_type": "display_data"
    },
    {
     "name": "stdout",
     "output_type": "stream",
     "text": [
      "Using SNPE-C with atomic loss\n",
      " Neural network successfully converged after 43 epochs."
     ]
    },
    {
     "data": {
      "application/vnd.jupyter.widget-view+json": {
       "model_id": "f522d753a13348769e096ddb27065fb9",
       "version_major": 2,
       "version_minor": 0
      },
      "text/plain": [
       "Drawing 10000 posterior samples:   0%|          | 0/10000 [00:00<?, ?it/s]"
      ]
     },
     "metadata": {},
     "output_type": "display_data"
    },
    {
     "name": "stdout",
     "output_type": "stream",
     "text": [
      "tensor(72.1221)\n"
     ]
    },
    {
     "data": {
      "application/vnd.jupyter.widget-view+json": {
       "model_id": "a33fac6a93ef4ea394e8b006627ecda7",
       "version_major": 2,
       "version_minor": 0
      },
      "text/plain": [
       "Drawing 2000 posterior samples:   0%|          | 0/2000 [00:00<?, ?it/s]"
      ]
     },
     "metadata": {},
     "output_type": "display_data"
    },
    {
     "data": {
      "application/vnd.jupyter.widget-view+json": {
       "model_id": "35de39a907da4c54a86fe2996b8e13a9",
       "version_major": 2,
       "version_minor": 0
      },
      "text/plain": [
       "Running 2000 simulations in 2000 batches.:   0%|          | 0/2000 [00:00<?, ?it/s]"
      ]
     },
     "metadata": {},
     "output_type": "display_data"
    },
    {
     "name": "stdout",
     "output_type": "stream",
     "text": [
      "Using SNPE-C with atomic loss\n",
      " Neural network successfully converged after 22 epochs."
     ]
    },
    {
     "data": {
      "application/vnd.jupyter.widget-view+json": {
       "model_id": "5dea5129ad44458582d7271bb80306c5",
       "version_major": 2,
       "version_minor": 0
      },
      "text/plain": [
       "Drawing 10000 posterior samples:   0%|          | 0/10000 [00:00<?, ?it/s]"
      ]
     },
     "metadata": {},
     "output_type": "display_data"
    },
    {
     "name": "stdout",
     "output_type": "stream",
     "text": [
      "tensor(78.8591)\n"
     ]
    },
    {
     "data": {
      "application/vnd.jupyter.widget-view+json": {
       "model_id": "9495cc541b8f458bb08b0b5bfdf78d2b",
       "version_major": 2,
       "version_minor": 0
      },
      "text/plain": [
       "Drawing 2000 posterior samples:   0%|          | 0/2000 [00:00<?, ?it/s]"
      ]
     },
     "metadata": {},
     "output_type": "display_data"
    },
    {
     "data": {
      "application/vnd.jupyter.widget-view+json": {
       "model_id": "fda73233852d41d3beb43782ca243a11",
       "version_major": 2,
       "version_minor": 0
      },
      "text/plain": [
       "Running 2000 simulations in 2000 batches.:   0%|          | 0/2000 [00:00<?, ?it/s]"
      ]
     },
     "metadata": {},
     "output_type": "display_data"
    },
    {
     "name": "stdout",
     "output_type": "stream",
     "text": [
      "Using SNPE-C with atomic loss\n",
      " Neural network successfully converged after 31 epochs."
     ]
    },
    {
     "data": {
      "application/vnd.jupyter.widget-view+json": {
       "model_id": "61a99260186c4c25bb020c5bd0be95ca",
       "version_major": 2,
       "version_minor": 0
      },
      "text/plain": [
       "Drawing 10000 posterior samples:   0%|          | 0/10000 [00:00<?, ?it/s]"
      ]
     },
     "metadata": {},
     "output_type": "display_data"
    },
    {
     "name": "stdout",
     "output_type": "stream",
     "text": [
      "tensor(79.7285)\n"
     ]
    },
    {
     "data": {
      "application/vnd.jupyter.widget-view+json": {
       "model_id": "96b083db26d04664b01e317c689a2f88",
       "version_major": 2,
       "version_minor": 0
      },
      "text/plain": [
       "Drawing 2000 posterior samples:   0%|          | 0/2000 [00:00<?, ?it/s]"
      ]
     },
     "metadata": {},
     "output_type": "display_data"
    },
    {
     "data": {
      "application/vnd.jupyter.widget-view+json": {
       "model_id": "39b3fe178bac49cca3fd2018a88f2fcd",
       "version_major": 2,
       "version_minor": 0
      },
      "text/plain": [
       "Running 2000 simulations in 2000 batches.:   0%|          | 0/2000 [00:00<?, ?it/s]"
      ]
     },
     "metadata": {},
     "output_type": "display_data"
    },
    {
     "name": "stdout",
     "output_type": "stream",
     "text": [
      "Using SNPE-C with atomic loss\n",
      " Neural network successfully converged after 27 epochs."
     ]
    },
    {
     "data": {
      "application/vnd.jupyter.widget-view+json": {
       "model_id": "ae4d82de20a845faa7b0f248057abbd0",
       "version_major": 2,
       "version_minor": 0
      },
      "text/plain": [
       "Drawing 10000 posterior samples:   0%|          | 0/10000 [00:00<?, ?it/s]"
      ]
     },
     "metadata": {},
     "output_type": "display_data"
    },
    {
     "name": "stdout",
     "output_type": "stream",
     "text": [
      "tensor(91.4667)\n"
     ]
    },
    {
     "data": {
      "application/vnd.jupyter.widget-view+json": {
       "model_id": "a58ab6e9b2ff4515b84524c36d76e619",
       "version_major": 2,
       "version_minor": 0
      },
      "text/plain": [
       "Drawing 2000 posterior samples:   0%|          | 0/2000 [00:00<?, ?it/s]"
      ]
     },
     "metadata": {},
     "output_type": "display_data"
    },
    {
     "data": {
      "application/vnd.jupyter.widget-view+json": {
       "model_id": "e850e3b2e360477fb9ef78d9f819c8d9",
       "version_major": 2,
       "version_minor": 0
      },
      "text/plain": [
       "Running 2000 simulations in 2000 batches.:   0%|          | 0/2000 [00:00<?, ?it/s]"
      ]
     },
     "metadata": {},
     "output_type": "display_data"
    },
    {
     "name": "stdout",
     "output_type": "stream",
     "text": [
      "Using SNPE-C with atomic loss\n"
     ]
    },
    {
     "name": "stderr",
     "output_type": "stream",
     "text": [
      "WARNING:root:Found 2 NaN simulations and 0 Inf simulations. They will be excluded from training.\n",
      "WARNING:root:When invalid simulations are excluded, multi-round SNPE-C can `leak` into the regions where parameters led to invalid simulations. This can lead to poor results.\n"
     ]
    },
    {
     "name": "stdout",
     "output_type": "stream",
     "text": [
      " Neural network successfully converged after 23 epochs."
     ]
    },
    {
     "data": {
      "application/vnd.jupyter.widget-view+json": {
       "model_id": "648142ae302345b38a06398fc7b75c47",
       "version_major": 2,
       "version_minor": 0
      },
      "text/plain": [
       "Drawing 10000 posterior samples:   0%|          | 0/10000 [00:00<?, ?it/s]"
      ]
     },
     "metadata": {},
     "output_type": "display_data"
    },
    {
     "name": "stdout",
     "output_type": "stream",
     "text": [
      "tensor(87.8022)\n"
     ]
    },
    {
     "data": {
      "application/vnd.jupyter.widget-view+json": {
       "model_id": "59b319309bfd4cdca1144c3b0a34171b",
       "version_major": 2,
       "version_minor": 0
      },
      "text/plain": [
       "Drawing 2000 posterior samples:   0%|          | 0/2000 [00:00<?, ?it/s]"
      ]
     },
     "metadata": {},
     "output_type": "display_data"
    },
    {
     "data": {
      "application/vnd.jupyter.widget-view+json": {
       "model_id": "3b6778684c5e444d96b1136d20c177cf",
       "version_major": 2,
       "version_minor": 0
      },
      "text/plain": [
       "Running 2000 simulations in 2000 batches.:   0%|          | 0/2000 [00:00<?, ?it/s]"
      ]
     },
     "metadata": {},
     "output_type": "display_data"
    },
    {
     "name": "stderr",
     "output_type": "stream",
     "text": [
      "WARNING:root:Found 2 NaN simulations and 0 Inf simulations. They will be excluded from training.\n",
      "WARNING:root:When invalid simulations are excluded, multi-round SNPE-C can `leak` into the regions where parameters led to invalid simulations. This can lead to poor results.\n"
     ]
    },
    {
     "name": "stdout",
     "output_type": "stream",
     "text": [
      "Using SNPE-C with atomic loss\n",
      " Neural network successfully converged after 21 epochs."
     ]
    },
    {
     "data": {
      "application/vnd.jupyter.widget-view+json": {
       "model_id": "95e85058df8045739a89d961f424319b",
       "version_major": 2,
       "version_minor": 0
      },
      "text/plain": [
       "Drawing 10000 posterior samples:   0%|          | 0/10000 [00:00<?, ?it/s]"
      ]
     },
     "metadata": {},
     "output_type": "display_data"
    },
    {
     "name": "stdout",
     "output_type": "stream",
     "text": [
      "tensor(81.6363)\n"
     ]
    },
    {
     "data": {
      "application/vnd.jupyter.widget-view+json": {
       "model_id": "095863fe7a784da8b2bbe9eea9babcaa",
       "version_major": 2,
       "version_minor": 0
      },
      "text/plain": [
       "Drawing 2000 posterior samples:   0%|          | 0/2000 [00:00<?, ?it/s]"
      ]
     },
     "metadata": {},
     "output_type": "display_data"
    },
    {
     "data": {
      "application/vnd.jupyter.widget-view+json": {
       "model_id": "21342be2f8374356b685d68d53eb69f8",
       "version_major": 2,
       "version_minor": 0
      },
      "text/plain": [
       "Running 2000 simulations in 2000 batches.:   0%|          | 0/2000 [00:00<?, ?it/s]"
      ]
     },
     "metadata": {},
     "output_type": "display_data"
    },
    {
     "name": "stdout",
     "output_type": "stream",
     "text": [
      "Using SNPE-C with atomic loss\n"
     ]
    },
    {
     "name": "stderr",
     "output_type": "stream",
     "text": [
      "WARNING:root:Found 2 NaN simulations and 0 Inf simulations. They will be excluded from training.\n",
      "WARNING:root:When invalid simulations are excluded, multi-round SNPE-C can `leak` into the regions where parameters led to invalid simulations. This can lead to poor results.\n"
     ]
    },
    {
     "name": "stdout",
     "output_type": "stream",
     "text": [
      " Neural network successfully converged after 23 epochs."
     ]
    },
    {
     "data": {
      "application/vnd.jupyter.widget-view+json": {
       "model_id": "41eb542f84b140008ad315a8c417aacb",
       "version_major": 2,
       "version_minor": 0
      },
      "text/plain": [
       "Drawing 10000 posterior samples:   0%|          | 0/10000 [00:00<?, ?it/s]"
      ]
     },
     "metadata": {},
     "output_type": "display_data"
    },
    {
     "name": "stdout",
     "output_type": "stream",
     "text": [
      "tensor(83.0185)\n"
     ]
    }
   ],
   "source": [
    "num_rounds = 10\n",
    "flat_posteriors = []\n",
    "simulator, prior = prepare_for_sbi(flat_sim, prior_full)\n",
    "proposal = prior\n",
    "inference = SNPE(prior=prior)\n",
    "for i in range(num_rounds):\n",
    "    theta, x = simulate_for_sbi(simulator, proposal, num_simulations=2000, num_workers=7)\n",
    "    density_estimator = inference.append_simulations(theta, x, proposal=proposal).train()\n",
    "    posterior = inference.build_posterior(density_estimator)\n",
    "    flat_posteriors.append(posterior)\n",
    "    proposal = posterior.set_default_x(R3L2.flat_sum)\n",
    "    samples = posterior.sample((10000,))\n",
    "    print(MSE(samples, R3L2.params))"
   ]
  },
  {
   "cell_type": "code",
   "execution_count": 79,
   "metadata": {},
   "outputs": [
    {
     "data": {
      "application/vnd.jupyter.widget-view+json": {
       "model_id": "6fc6ba9fcbd44cfdadcbab8ae20989de",
       "version_major": 2,
       "version_minor": 0
      },
      "text/plain": [
       "Running 2000 simulations in 2000 batches.:   0%|          | 0/2000 [00:00<?, ?it/s]"
      ]
     },
     "metadata": {},
     "output_type": "display_data"
    },
    {
     "name": "stdout",
     "output_type": "stream",
     "text": [
      "[pyKeOps]: Warning, no cuda detected. Switching to cpu only.\n",
      "[pyKeOps]: Warning, no cuda detected. Switching to cpu only.\n",
      "[pyKeOps]: Warning, no cuda detected. Switching to cpu only.\n",
      "[pyKeOps]: Warning, no cuda detected. Switching to cpu only.\n",
      "[pyKeOps]: Warning, no cuda detected. Switching to cpu only.\n",
      "[pyKeOps]: Warning, no cuda detected. Switching to cpu only.\n",
      "[pyKeOps]: Warning, no cuda detected. Switching to cpu only.\n",
      " Neural network successfully converged after 44 epochs."
     ]
    },
    {
     "data": {
      "application/vnd.jupyter.widget-view+json": {
       "model_id": "e82384ef815d4e839295edbbcf7645f7",
       "version_major": 2,
       "version_minor": 0
      },
      "text/plain": [
       "Drawing 2000 posterior samples:   0%|          | 0/2000 [00:00<?, ?it/s]"
      ]
     },
     "metadata": {},
     "output_type": "display_data"
    },
    {
     "data": {
      "application/vnd.jupyter.widget-view+json": {
       "model_id": "38bfd7e846ec416d85e16c9eac5bbc44",
       "version_major": 2,
       "version_minor": 0
      },
      "text/plain": [
       "Running 2000 simulations in 2000 batches.:   0%|          | 0/2000 [00:00<?, ?it/s]"
      ]
     },
     "metadata": {},
     "output_type": "display_data"
    },
    {
     "name": "stdout",
     "output_type": "stream",
     "text": [
      "Using SNPE-C with atomic loss\n",
      " Neural network successfully converged after 27 epochs."
     ]
    },
    {
     "data": {
      "application/vnd.jupyter.widget-view+json": {
       "model_id": "f5bb5eb3aad649b988204a1e47cddc2f",
       "version_major": 2,
       "version_minor": 0
      },
      "text/plain": [
       "Drawing 2000 posterior samples:   0%|          | 0/2000 [00:00<?, ?it/s]"
      ]
     },
     "metadata": {},
     "output_type": "display_data"
    },
    {
     "data": {
      "application/vnd.jupyter.widget-view+json": {
       "model_id": "5203c98e2ce64a7e8f9602123bb8a496",
       "version_major": 2,
       "version_minor": 0
      },
      "text/plain": [
       "Running 2000 simulations in 2000 batches.:   0%|          | 0/2000 [00:00<?, ?it/s]"
      ]
     },
     "metadata": {},
     "output_type": "display_data"
    },
    {
     "name": "stderr",
     "output_type": "stream",
     "text": [
      "WARNING:root:Found 1 NaN simulations and 0 Inf simulations. They will be excluded from training.\n",
      "WARNING:root:When invalid simulations are excluded, multi-round SNPE-C can `leak` into the regions where parameters led to invalid simulations. This can lead to poor results.\n"
     ]
    },
    {
     "name": "stdout",
     "output_type": "stream",
     "text": [
      "Using SNPE-C with atomic loss\n",
      " Neural network successfully converged after 22 epochs."
     ]
    },
    {
     "data": {
      "application/vnd.jupyter.widget-view+json": {
       "model_id": "83e5d7aa3cc84df6b065afde4659b6c1",
       "version_major": 2,
       "version_minor": 0
      },
      "text/plain": [
       "Drawing 2000 posterior samples:   0%|          | 0/2000 [00:00<?, ?it/s]"
      ]
     },
     "metadata": {},
     "output_type": "display_data"
    },
    {
     "data": {
      "application/vnd.jupyter.widget-view+json": {
       "model_id": "ae569237170d43d1b4f43e9167b90943",
       "version_major": 2,
       "version_minor": 0
      },
      "text/plain": [
       "Running 2000 simulations in 2000 batches.:   0%|          | 0/2000 [00:00<?, ?it/s]"
      ]
     },
     "metadata": {},
     "output_type": "display_data"
    },
    {
     "name": "stderr",
     "output_type": "stream",
     "text": [
      "WARNING:root:Found 1 NaN simulations and 0 Inf simulations. They will be excluded from training.\n",
      "WARNING:root:When invalid simulations are excluded, multi-round SNPE-C can `leak` into the regions where parameters led to invalid simulations. This can lead to poor results.\n"
     ]
    },
    {
     "name": "stdout",
     "output_type": "stream",
     "text": [
      "Using SNPE-C with atomic loss\n",
      " Neural network successfully converged after 33 epochs."
     ]
    },
    {
     "data": {
      "application/vnd.jupyter.widget-view+json": {
       "model_id": "2e66bc4676264cb8a3da8848a9777847",
       "version_major": 2,
       "version_minor": 0
      },
      "text/plain": [
       "Drawing 2000 posterior samples:   0%|          | 0/2000 [00:00<?, ?it/s]"
      ]
     },
     "metadata": {},
     "output_type": "display_data"
    },
    {
     "data": {
      "application/vnd.jupyter.widget-view+json": {
       "model_id": "eca4a3cbaad4467a800821d3afb0afc3",
       "version_major": 2,
       "version_minor": 0
      },
      "text/plain": [
       "Running 2000 simulations in 2000 batches.:   0%|          | 0/2000 [00:00<?, ?it/s]"
      ]
     },
     "metadata": {},
     "output_type": "display_data"
    },
    {
     "name": "stdout",
     "output_type": "stream",
     "text": [
      "Using SNPE-C with atomic loss\n"
     ]
    },
    {
     "name": "stderr",
     "output_type": "stream",
     "text": [
      "WARNING:root:Found 1 NaN simulations and 0 Inf simulations. They will be excluded from training.\n",
      "WARNING:root:When invalid simulations are excluded, multi-round SNPE-C can `leak` into the regions where parameters led to invalid simulations. This can lead to poor results.\n"
     ]
    },
    {
     "name": "stdout",
     "output_type": "stream",
     "text": [
      " Neural network successfully converged after 26 epochs."
     ]
    },
    {
     "data": {
      "application/vnd.jupyter.widget-view+json": {
       "model_id": "392c23f7373f431dae09af891f0c5312",
       "version_major": 2,
       "version_minor": 0
      },
      "text/plain": [
       "Drawing 2000 posterior samples:   0%|          | 0/2000 [00:00<?, ?it/s]"
      ]
     },
     "metadata": {},
     "output_type": "display_data"
    },
    {
     "data": {
      "application/vnd.jupyter.widget-view+json": {
       "model_id": "695c01fe6f5149b6a39f24dba20efda6",
       "version_major": 2,
       "version_minor": 0
      },
      "text/plain": [
       "Running 2000 simulations in 2000 batches.:   0%|          | 0/2000 [00:00<?, ?it/s]"
      ]
     },
     "metadata": {},
     "output_type": "display_data"
    },
    {
     "name": "stderr",
     "output_type": "stream",
     "text": [
      "WARNING:root:Found 2 NaN simulations and 0 Inf simulations. They will be excluded from training.\n",
      "WARNING:root:When invalid simulations are excluded, multi-round SNPE-C can `leak` into the regions where parameters led to invalid simulations. This can lead to poor results.\n"
     ]
    },
    {
     "name": "stdout",
     "output_type": "stream",
     "text": [
      "Using SNPE-C with atomic loss\n",
      " Neural network successfully converged after 30 epochs."
     ]
    },
    {
     "data": {
      "application/vnd.jupyter.widget-view+json": {
       "model_id": "1e0b1910343e437abb9ff7bd23703f50",
       "version_major": 2,
       "version_minor": 0
      },
      "text/plain": [
       "Drawing 2000 posterior samples:   0%|          | 0/2000 [00:00<?, ?it/s]"
      ]
     },
     "metadata": {},
     "output_type": "display_data"
    },
    {
     "data": {
      "application/vnd.jupyter.widget-view+json": {
       "model_id": "c2b6699e62674772a32bc93a589402ff",
       "version_major": 2,
       "version_minor": 0
      },
      "text/plain": [
       "Running 2000 simulations in 2000 batches.:   0%|          | 0/2000 [00:00<?, ?it/s]"
      ]
     },
     "metadata": {},
     "output_type": "display_data"
    },
    {
     "name": "stdout",
     "output_type": "stream",
     "text": [
      "Using SNPE-C with atomic loss\n"
     ]
    },
    {
     "name": "stderr",
     "output_type": "stream",
     "text": [
      "WARNING:root:Found 2 NaN simulations and 0 Inf simulations. They will be excluded from training.\n",
      "WARNING:root:When invalid simulations are excluded, multi-round SNPE-C can `leak` into the regions where parameters led to invalid simulations. This can lead to poor results.\n"
     ]
    },
    {
     "name": "stdout",
     "output_type": "stream",
     "text": [
      " Neural network successfully converged after 21 epochs."
     ]
    },
    {
     "data": {
      "application/vnd.jupyter.widget-view+json": {
       "model_id": "2097a97f672b4c278fcb756a9e417bfc",
       "version_major": 2,
       "version_minor": 0
      },
      "text/plain": [
       "Drawing 2000 posterior samples:   0%|          | 0/2000 [00:00<?, ?it/s]"
      ]
     },
     "metadata": {},
     "output_type": "display_data"
    },
    {
     "data": {
      "application/vnd.jupyter.widget-view+json": {
       "model_id": "f6b184ce4a2b4a439c1093a26071974f",
       "version_major": 2,
       "version_minor": 0
      },
      "text/plain": [
       "Running 2000 simulations in 2000 batches.:   0%|          | 0/2000 [00:00<?, ?it/s]"
      ]
     },
     "metadata": {},
     "output_type": "display_data"
    },
    {
     "name": "stdout",
     "output_type": "stream",
     "text": [
      "Using SNPE-C with atomic loss\n"
     ]
    },
    {
     "name": "stderr",
     "output_type": "stream",
     "text": [
      "WARNING:root:Found 2 NaN simulations and 0 Inf simulations. They will be excluded from training.\n",
      "WARNING:root:When invalid simulations are excluded, multi-round SNPE-C can `leak` into the regions where parameters led to invalid simulations. This can lead to poor results.\n"
     ]
    },
    {
     "name": "stdout",
     "output_type": "stream",
     "text": [
      " Neural network successfully converged after 26 epochs."
     ]
    },
    {
     "data": {
      "application/vnd.jupyter.widget-view+json": {
       "model_id": "0ac1fc11738b4424a10ea74fae122fd2",
       "version_major": 2,
       "version_minor": 0
      },
      "text/plain": [
       "Drawing 2000 posterior samples:   0%|          | 0/2000 [00:00<?, ?it/s]"
      ]
     },
     "metadata": {},
     "output_type": "display_data"
    },
    {
     "data": {
      "application/vnd.jupyter.widget-view+json": {
       "model_id": "58075f0f67bb4ddcb2651932a15e717c",
       "version_major": 2,
       "version_minor": 0
      },
      "text/plain": [
       "Running 2000 simulations in 2000 batches.:   0%|          | 0/2000 [00:00<?, ?it/s]"
      ]
     },
     "metadata": {},
     "output_type": "display_data"
    },
    {
     "name": "stdout",
     "output_type": "stream",
     "text": [
      "Using SNPE-C with atomic loss\n"
     ]
    },
    {
     "name": "stderr",
     "output_type": "stream",
     "text": [
      "WARNING:root:Found 2 NaN simulations and 0 Inf simulations. They will be excluded from training.\n",
      "WARNING:root:When invalid simulations are excluded, multi-round SNPE-C can `leak` into the regions where parameters led to invalid simulations. This can lead to poor results.\n"
     ]
    },
    {
     "name": "stdout",
     "output_type": "stream",
     "text": [
      " Neural network successfully converged after 25 epochs."
     ]
    },
    {
     "data": {
      "application/vnd.jupyter.widget-view+json": {
       "model_id": "45d3f93d67c446a98a7d0795f403a5e1",
       "version_major": 2,
       "version_minor": 0
      },
      "text/plain": [
       "Drawing 2000 posterior samples:   0%|          | 0/2000 [00:00<?, ?it/s]"
      ]
     },
     "metadata": {},
     "output_type": "display_data"
    },
    {
     "data": {
      "application/vnd.jupyter.widget-view+json": {
       "model_id": "6587b1d883494329968cc6e800b1a0d9",
       "version_major": 2,
       "version_minor": 0
      },
      "text/plain": [
       "Running 2000 simulations in 2000 batches.:   0%|          | 0/2000 [00:00<?, ?it/s]"
      ]
     },
     "metadata": {},
     "output_type": "display_data"
    },
    {
     "name": "stdout",
     "output_type": "stream",
     "text": [
      "Using SNPE-C with atomic loss\n"
     ]
    },
    {
     "name": "stderr",
     "output_type": "stream",
     "text": [
      "WARNING:root:Found 2 NaN simulations and 0 Inf simulations. They will be excluded from training.\n",
      "WARNING:root:When invalid simulations are excluded, multi-round SNPE-C can `leak` into the regions where parameters led to invalid simulations. This can lead to poor results.\n"
     ]
    },
    {
     "name": "stdout",
     "output_type": "stream",
     "text": [
      " Neural network successfully converged after 25 epochs."
     ]
    }
   ],
   "source": [
    "num_rounds = 10\n",
    "flat_posteriors_2 = []\n",
    "simulator, prior = prepare_for_sbi(flat_sim, prior_full)\n",
    "proposal = prior\n",
    "inference = SNPE(prior=prior)\n",
    "for i in range(num_rounds):\n",
    "    theta, x = simulate_for_sbi(simulator, proposal, num_simulations=2000, num_workers=7)\n",
    "    density_estimator = inference.append_simulations(theta, x, proposal=proposal).train()\n",
    "    posterior = inference.build_posterior(density_estimator)\n",
    "    flat_posteriors_2.append(posterior)\n",
    "    proposal = posterior.set_default_x(R25L2.flat_sum)"
   ]
  },
  {
   "cell_type": "code",
   "execution_count": 91,
   "metadata": {},
   "outputs": [
    {
     "name": "stdout",
     "output_type": "stream",
     "text": [
      "[tensor(72.8627), tensor(77.2472), tensor(70.4048), tensor(70.9291), tensor(78.9293), tensor(80.6559), tensor(90.9538), tensor(89.1360), tensor(83.9077), tensor(83.0707)]\n",
      "[tensor(49.4270), tensor(54.1019), tensor(86.2717), tensor(110.1735), tensor(90.7489), tensor(91.5921), tensor(101.6100), tensor(83.0396), tensor(96.6443), tensor(109.7315)]\n"
     ]
    }
   ],
   "source": [
    "print([MSE(posterior.sample((10000,),x=R3L2.flat_sum, show_progress_bars=False), R3L2.params) for posterior in flat_posteriors])\n",
    "print([MSE(posterior.sample((10000,),x=R25L2.flat_sum, show_progress_bars=False), R25L2.params) for posterior in flat_posteriors_2])"
   ]
  },
  {
   "cell_type": "markdown",
   "metadata": {},
   "source": [
    "No clear improvement over multiple rounds. If anything, things get worse."
   ]
  },
  {
   "cell_type": "code",
   "execution_count": 90,
   "metadata": {},
   "outputs": [
    {
     "name": "stderr",
     "output_type": "stream",
     "text": [
      "/home/sragy/anaconda3/envs/sbi/lib/python3.8/site-packages/torch/nn/modules/loss.py:529: UserWarning: Using a target size (torch.Size([])) that is different to the input size (torch.Size([10000])). This will likely lead to incorrect results due to broadcasting. Please ensure they have the same size.\n",
      "  return F.mse_loss(input, target, reduction=self.reduction)\n"
     ]
    },
    {
     "name": "stdout",
     "output_type": "stream",
     "text": [
      "[tensor(145.0902), tensor(155.6678), tensor(139.1353), tensor(140.6792), tensor(156.7566), tensor(158.3182), tensor(179.7705), tensor(169.2331), tensor(162.6528), tensor(168.4073)]\n",
      "[tensor(0.6095), tensor(1.3130), tensor(1.4911), tensor(1.6439), tensor(1.3662), tensor(1.5071), tensor(1.2442), tensor(1.3683), tensor(1.3482), tensor(1.3376)]\n"
     ]
    }
   ],
   "source": [
    "print([MSE(posterior.sample((10000,),x=R3L2.flat_sum, show_progress_bars=False)[:,0], R3L2.params[0]) for posterior in flat_posteriors])\n",
    "print([MSE(posterior.sample((10000,),x=R3L2.flat_sum, show_progress_bars=False)[:,1], R3L2.params[1]) for posterior in flat_posteriors])"
   ]
  },
  {
   "cell_type": "code",
   "execution_count": 92,
   "metadata": {},
   "outputs": [
    {
     "name": "stdout",
     "output_type": "stream",
     "text": [
      "[tensor(108.0900), tensor(202.2127), tensor(202.7081), tensor(170.5721), tensor(201.5656), tensor(154.5953), tensor(197.4188), tensor(159.4246), tensor(207.7389), tensor(190.1277)]\n",
      "[tensor(1.2573), tensor(1.7143), tensor(1.9953), tensor(1.5356), tensor(1.5403), tensor(1.4113), tensor(3.0857), tensor(1.9576), tensor(2.0488), tensor(2.6025)]\n"
     ]
    }
   ],
   "source": [
    "print([MSE(posterior.sample((10000,),x=R25L2.flat_sum, show_progress_bars=False)[:,0], R25L2.params[0]) for posterior in flat_posteriors])\n",
    "print([MSE(posterior.sample((10000,),x=R25L2.flat_sum, show_progress_bars=False)[:,1], R25L2.params[1]) for posterior in flat_posteriors])"
   ]
  },
  {
   "cell_type": "code",
   "execution_count": null,
   "metadata": {},
   "outputs": [],
   "source": []
  }
 ],
 "metadata": {
  "kernelspec": {
   "display_name": "Python 3.8.2 ('sbi')",
   "language": "python",
   "name": "python3"
  },
  "language_info": {
   "codemirror_mode": {
    "name": "ipython",
    "version": 3
   },
   "file_extension": ".py",
   "mimetype": "text/x-python",
   "name": "python",
   "nbconvert_exporter": "python",
   "pygments_lexer": "ipython3",
   "version": "3.8.2"
  },
  "orig_nbformat": 4,
  "vscode": {
   "interpreter": {
    "hash": "13944c231e1afffeee6243f06815a541549e20966d7807d0e24091f3e6a98d40"
   }
  }
 },
 "nbformat": 4,
 "nbformat_minor": 2
}
