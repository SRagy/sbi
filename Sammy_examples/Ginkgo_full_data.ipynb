{
 "cells": [
  {
   "cell_type": "markdown",
   "metadata": {},
   "source": [
    "# Ginkgo full data"
   ]
  },
  {
   "cell_type": "code",
   "execution_count": 1,
   "metadata": {},
   "outputs": [
    {
     "name": "stdout",
     "output_type": "stream",
     "text": [
      "[pyKeOps]: Warning, no cuda detected. Switching to cpu only.\n"
     ]
    }
   ],
   "source": [
    "\n",
    "import pyprob\n",
    "import numpy as np\n",
    "import ot\n",
    "import torch\n",
    "import cProfile\n",
    "import pickle\n",
    "\n",
    "from pyprob.dis import ModelDIS\n",
    "from showerSim import invMass_ginkgo\n",
    "from torch.utils.data import DataLoader\n",
    "from pyprob.nn.dataset import OnlineDataset\n",
    "from pyprob.util import InferenceEngine\n",
    "from pyprob.util import to_tensor\n",
    "from pyprob import Model\n",
    "import math\n",
    "from pyprob.distributions import Normal\n",
    "from pyprob.distributions.delta import Delta\n",
    "\n",
    "\n",
    "import matplotlib as mpl\n",
    "import matplotlib.pyplot as plt\n",
    "from mpl_toolkits.mplot3d import Axes3D\n",
    "import matplotlib.cm as mpl_cm\n",
    "plt.ion()\n",
    "\n",
    "from sbi import utils\n",
    "from sbi import analysis\n",
    "from sbi.inference.base import infer\n",
    "from sbi.inference import SNPE, prepare_for_sbi, simulate_for_sbi\n",
    "from sbi.utils.get_nn_models import posterior_nn\n",
    "\n",
    "\n",
    "import sklearn as skl\n",
    "from sklearn.linear_model import LinearRegression\n",
    "from tqdm import tqdm\n",
    "from joblib import Parallel, delayed\n",
    "from torch.nn.functional import pad\n",
    "\n",
    "from geomloss import SamplesLoss\n",
    "sinkhorn = SamplesLoss(loss=\"sinkhorn\", p=1, blur=.05)\n",
    "def sinkhorn_t(x,y):\n",
    "    x = torch.as_tensor(x)\n",
    "    y = torch.as_tensor(y)\n",
    "    return sinkhorn(x,y)\n",
    "\n",
    "def ot_dist(x,y):\n",
    "    x = x.detach().numpy()\n",
    "    y = y.detach().numpy()\n",
    "    a = ot.unif(len(x))\n",
    "    b = ot.unif(len(y))\n",
    "    Mat = ot.dist(x, y, metric='euclidean')\n",
    "    distance = torch.tensor(ot.emd2(a,b,Mat))\n",
    "    return distance"
   ]
  },
  {
   "cell_type": "code",
   "execution_count": 2,
   "metadata": {},
   "outputs": [],
   "source": [
    "## Prepare functions\n",
    "QCD_mass = to_tensor(30.)\n",
    "#rate=to_tensor([QCD_rate,QCD_rate]) #Entries: [root node, every other node] decaying rates. Choose same values for a QCD jet\n",
    "jetdir = to_tensor([1.,1.,1.])\n",
    "jetP = to_tensor(400.)\n",
    "jetvec = jetP * jetdir / torch.linalg.norm(jetdir) ## Jetvec is 3-momentum. JetP is relativistic p.\n",
    "\n",
    "\n",
    "# Actual parameters\n",
    "pt_min = to_tensor(0.3**2)\n",
    "M2start = to_tensor(QCD_mass**2)\n",
    "jetM = torch.sqrt(M2start) ## Mass of initial jet\n",
    "jet4vec = torch.cat((torch.sqrt(jetP**2 + jetM**2).reshape(-1), jetvec))\n",
    "minLeaves = 1\n",
    "maxLeaves = 10000 # unachievable, to prevent rejections\n",
    "maxNTry = 100\n",
    "\n",
    "\n",
    "ginkgo_simulator = invMass_ginkgo.SimulatorModel(jet_p=jet4vec,  # parent particle 4-vector\n",
    "                                    pt_cut=float(pt_min),  # minimum pT for resulting jet\n",
    "                                    Delta_0= M2start,  # parent particle mass squared -> needs tensor\n",
    "                                    M_hard=jetM,  # parent particle mass\n",
    "                                    minLeaves=1,  # minimum number of jet constituents\n",
    "                                    maxLeaves=50,  # maximum number of jet constituents (a large value to stop expensive simulator runs)\n",
    "                                    suppress_output=True)\n",
    "\n",
    "prior_min = [1e-3,1e-3]\n",
    "prior_max = [30.,30.]\n",
    "prior_full = utils.torchutils.BoxUniform(low=torch.as_tensor(prior_min), \n",
    "                                    high=torch.as_tensor(prior_max))"
   ]
  },
  {
   "cell_type": "code",
   "execution_count": 3,
   "metadata": {},
   "outputs": [],
   "source": [
    "def flatten_data(leaves, sort = False):\n",
    "\n",
    "    if sort:\n",
    "        flattened = leaves[leaves[:, 0].sort()[1]].reshape(-1)\n",
    "    else:\n",
    "        flattened=leaves.reshape(-1)\n",
    "    \n",
    "    length = len(flattened)\n",
    "\n",
    "    if length == 200:\n",
    "        return flattened\n",
    "    else:\n",
    "        pad_length = 200 - length\n",
    "        return pad(flattened,(0,pad_length))\n",
    "    "
   ]
  },
  {
   "cell_type": "markdown",
   "metadata": {},
   "source": [
    "## Simulator"
   ]
  },
  {
   "cell_type": "code",
   "execution_count": 6,
   "metadata": {},
   "outputs": [],
   "source": [
    "def simulator_wrapper_sorted(params):   \n",
    "    leaves = ginkgo_simulator(params)['leaves']\n",
    "    return flatten_data(leaves, sort = True)\n",
    "\n",
    "def simulator_wrapper_unsorted(params):   \n",
    "    leaves = ginkgo_simulator(params)['leaves']\n",
    "    return flatten_data(leaves, sort = False)"
   ]
  },
  {
   "cell_type": "code",
   "execution_count": 7,
   "metadata": {},
   "outputs": [],
   "source": [
    "ref_obs33 = simulator_wrapper_sorted([3,3])\n",
    "ref_obs153 = simulator_wrapper_sorted([15,3])\n",
    "ref_obs1010 = simulator_wrapper_sorted([10,10])"
   ]
  },
  {
   "cell_type": "code",
   "execution_count": null,
   "metadata": {},
   "outputs": [],
   "source": []
  },
  {
   "cell_type": "markdown",
   "metadata": {},
   "source": [
    "## Inference"
   ]
  },
  {
   "cell_type": "code",
   "execution_count": 9,
   "metadata": {},
   "outputs": [
    {
     "data": {
      "application/vnd.jupyter.widget-view+json": {
       "model_id": "de00afb7655f46729bf15968ad60a680",
       "version_major": 2,
       "version_minor": 0
      },
      "text/plain": [
       "Running 5000 simulations in 5000 batches.:   0%|          | 0/5000 [00:00<?, ?it/s]"
      ]
     },
     "metadata": {},
     "output_type": "display_data"
    },
    {
     "name": "stdout",
     "output_type": "stream",
     "text": [
      "[pyKeOps]: Warning, no cuda detected. Switching to cpu only.\n",
      "[pyKeOps]: Warning, no cuda detected. Switching to cpu only.\n",
      "[pyKeOps]: Warning, no cuda detected. Switching to cpu only.\n",
      "[pyKeOps]: Warning, no cuda detected. Switching to cpu only.\n",
      "[pyKeOps]: Warning, no cuda detected. Switching to cpu only.\n",
      "[pyKeOps]: Warning, no cuda detected. Switching to cpu only.\n",
      "[pyKeOps]: Warning, no cuda detected. Switching to cpu only.\n",
      " Neural network successfully converged after 37 epochs."
     ]
    }
   ],
   "source": [
    "posterior = infer(simulator_wrapper_sorted, prior_full, method='SNPE', num_simulations=5000,num_workers=7)"
   ]
  },
  {
   "cell_type": "code",
   "execution_count": 11,
   "metadata": {},
   "outputs": [
    {
     "data": {
      "application/vnd.jupyter.widget-view+json": {
       "model_id": "5ea7654e77854920b3bae6da78a4fda8",
       "version_major": 2,
       "version_minor": 0
      },
      "text/plain": [
       "Drawing 10000 posterior samples:   0%|          | 0/10000 [00:00<?, ?it/s]"
      ]
     },
     "metadata": {},
     "output_type": "display_data"
    },
    {
     "data": {
      "image/png": "[encoded data removed]",
      "text/plain": [
       "<Figure size 360x360 with 4 Axes>"
      ]
     },
     "metadata": {
      "needs_background": "light"
     },
     "output_type": "display_data"
    }
   ],
   "source": [
    "samples = posterior.sample((10000,),x=ref_obs33)\n",
    "fig, axes = analysis.pairplot(samples,\n",
    "                        limits=[[1e-3,30.], [1e-3,30.]],\n",
    "                        ticks=[[1e-3,30.], [1e-3,30.]],\n",
    "                        figsize=(5,5),\n",
    "                        points=np.array([3,3]),\n",
    "                        points_offdiag={'markersize': 6},\n",
    "                        points_colors='r');\n",
    "plt.show()"
   ]
  },
  {
   "cell_type": "code",
   "execution_count": 14,
   "metadata": {},
   "outputs": [
    {
     "data": {
      "application/vnd.jupyter.widget-view+json": {
       "model_id": "2f73cb6bb78f4e9f8716b17602b617e6",
       "version_major": 2,
       "version_minor": 0
      },
      "text/plain": [
       "Drawing 10000 posterior samples:   0%|          | 0/10000 [00:00<?, ?it/s]"
      ]
     },
     "metadata": {},
     "output_type": "display_data"
    },
    {
     "data": {
      "image/png": "[encoded data removed]",
      "text/plain": [
       "<Figure size 360x360 with 4 Axes>"
      ]
     },
     "metadata": {
      "needs_background": "light"
     },
     "output_type": "display_data"
    }
   ],
   "source": [
    "samples = posterior.sample((10000,),x=ref_obs153)\n",
    "fig, axes = analysis.pairplot(samples,\n",
    "                        limits=[[1e-3,30.], [1e-3,30.]],\n",
    "                        ticks=[[1e-3,30.], [1e-3,30.]],\n",
    "                        figsize=(5,5),\n",
    "                        points=np.array([15,3]),\n",
    "                        points_offdiag={'markersize': 6},\n",
    "                        points_colors='r');\n",
    "plt.show()"
   ]
  },
  {
   "cell_type": "code",
   "execution_count": 16,
   "metadata": {},
   "outputs": [
    {
     "data": {
      "application/vnd.jupyter.widget-view+json": {
       "model_id": "946482722d0d4a55881b26f2fe8a9f4e",
       "version_major": 2,
       "version_minor": 0
      },
      "text/plain": [
       "Drawing 10000 posterior samples:   0%|          | 0/10000 [00:00<?, ?it/s]"
      ]
     },
     "metadata": {},
     "output_type": "display_data"
    },
    {
     "data": {
      "image/png": "[encoded data removed]",
      "text/plain": [
       "<Figure size 360x360 with 4 Axes>"
      ]
     },
     "metadata": {
      "needs_background": "light"
     },
     "output_type": "display_data"
    }
   ],
   "source": [
    "samples = posterior.sample((10000,),x=ref_obs1010)\n",
    "fig, axes = analysis.pairplot(samples,\n",
    "                        limits=[[1e-3,30.], [1e-3,30.]],\n",
    "                        ticks=[[1e-3,30.], [1e-3,30.]],\n",
    "                        figsize=(5,5),\n",
    "                        points=np.array([10,10]),\n",
    "                        points_offdiag={'markersize': 6},\n",
    "                        points_colors='r');\n",
    "plt.show()"
   ]
  },
  {
   "cell_type": "markdown",
   "metadata": {},
   "source": [
    "## Multi-round inference"
   ]
  },
  {
   "cell_type": "code",
   "execution_count": 20,
   "metadata": {},
   "outputs": [
    {
     "data": {
      "application/vnd.jupyter.widget-view+json": {
       "model_id": "69248deefd3f473b8e3c1678bb4c1267",
       "version_major": 2,
       "version_minor": 0
      },
      "text/plain": [
       "Running 2000 simulations in 2000 batches.:   0%|          | 0/2000 [00:00<?, ?it/s]"
      ]
     },
     "metadata": {},
     "output_type": "display_data"
    },
    {
     "name": "stdout",
     "output_type": "stream",
     "text": [
      "[pyKeOps]: Warning, no cuda detected. Switching to cpu only.\n",
      "[pyKeOps]: Warning, no cuda detected. Switching to cpu only.\n",
      "[pyKeOps]: Warning, no cuda detected. Switching to cpu only.\n",
      "[pyKeOps]: Warning, no cuda detected. Switching to cpu only.\n",
      "[pyKeOps]: Warning, no cuda detected. Switching to cpu only.\n",
      "[pyKeOps]: Warning, no cuda detected. Switching to cpu only.\n",
      "[pyKeOps]: Warning, no cuda detected. Switching to cpu only.\n",
      " Neural network successfully converged after 41 epochs."
     ]
    },
    {
     "data": {
      "application/vnd.jupyter.widget-view+json": {
       "model_id": "e8ee21b0dad34a0d9773865c41433815",
       "version_major": 2,
       "version_minor": 0
      },
      "text/plain": [
       "Drawing 10000 posterior samples:   0%|          | 0/10000 [00:00<?, ?it/s]"
      ]
     },
     "metadata": {},
     "output_type": "display_data"
    },
    {
     "data": {
      "application/vnd.jupyter.widget-view+json": {
       "model_id": "c3c07d796b914f24aeb947d22afe557a",
       "version_major": 2,
       "version_minor": 0
      },
      "text/plain": [
       "Drawing 2000 posterior samples:   0%|          | 0/2000 [00:00<?, ?it/s]"
      ]
     },
     "metadata": {},
     "output_type": "display_data"
    },
    {
     "data": {
      "application/vnd.jupyter.widget-view+json": {
       "model_id": "c9680af868f9444aabd7d5f3923d770a",
       "version_major": 2,
       "version_minor": 0
      },
      "text/plain": [
       "Running 2000 simulations in 2000 batches.:   0%|          | 0/2000 [00:00<?, ?it/s]"
      ]
     },
     "metadata": {},
     "output_type": "display_data"
    },
    {
     "name": "stdout",
     "output_type": "stream",
     "text": [
      "Using SNPE-C with atomic loss\n",
      " Neural network successfully converged after 27 epochs."
     ]
    },
    {
     "data": {
      "application/vnd.jupyter.widget-view+json": {
       "model_id": "ec56344317534d6dad6cbbeecc513aca",
       "version_major": 2,
       "version_minor": 0
      },
      "text/plain": [
       "Drawing 10000 posterior samples:   0%|          | 0/10000 [00:00<?, ?it/s]"
      ]
     },
     "metadata": {},
     "output_type": "display_data"
    },
    {
     "data": {
      "application/vnd.jupyter.widget-view+json": {
       "model_id": "71a67f4a41f6488a9311923b0b1f18a4",
       "version_major": 2,
       "version_minor": 0
      },
      "text/plain": [
       "Drawing 2000 posterior samples:   0%|          | 0/2000 [00:00<?, ?it/s]"
      ]
     },
     "metadata": {},
     "output_type": "display_data"
    },
    {
     "data": {
      "application/vnd.jupyter.widget-view+json": {
       "model_id": "58e6caeadc12496a8bd4b4da736941e9",
       "version_major": 2,
       "version_minor": 0
      },
      "text/plain": [
       "Running 2000 simulations in 2000 batches.:   0%|          | 0/2000 [00:00<?, ?it/s]"
      ]
     },
     "metadata": {},
     "output_type": "display_data"
    },
    {
     "name": "stdout",
     "output_type": "stream",
     "text": [
      "Using SNPE-C with atomic loss\n",
      " Neural network successfully converged after 28 epochs."
     ]
    },
    {
     "data": {
      "application/vnd.jupyter.widget-view+json": {
       "model_id": "9bfbe98ae5044490aebcde7150c2db62",
       "version_major": 2,
       "version_minor": 0
      },
      "text/plain": [
       "Drawing 10000 posterior samples:   0%|          | 0/10000 [00:00<?, ?it/s]"
      ]
     },
     "metadata": {},
     "output_type": "display_data"
    },
    {
     "data": {
      "application/vnd.jupyter.widget-view+json": {
       "model_id": "b722e41e1d6246b1bc0eca29eecbe0f8",
       "version_major": 2,
       "version_minor": 0
      },
      "text/plain": [
       "Drawing 2000 posterior samples:   0%|          | 0/2000 [00:00<?, ?it/s]"
      ]
     },
     "metadata": {},
     "output_type": "display_data"
    },
    {
     "data": {
      "application/vnd.jupyter.widget-view+json": {
       "model_id": "b72fddcdcdc84e4e97f42fd2c9eed5b8",
       "version_major": 2,
       "version_minor": 0
      },
      "text/plain": [
       "Running 2000 simulations in 2000 batches.:   0%|          | 0/2000 [00:00<?, ?it/s]"
      ]
     },
     "metadata": {},
     "output_type": "display_data"
    },
    {
     "name": "stdout",
     "output_type": "stream",
     "text": [
      "Using SNPE-C with atomic loss\n",
      " Neural network successfully converged after 29 epochs."
     ]
    },
    {
     "data": {
      "application/vnd.jupyter.widget-view+json": {
       "model_id": "fdfa69612abb4be9813e5f8a09e86cef",
       "version_major": 2,
       "version_minor": 0
      },
      "text/plain": [
       "Drawing 10000 posterior samples:   0%|          | 0/10000 [00:00<?, ?it/s]"
      ]
     },
     "metadata": {},
     "output_type": "display_data"
    },
    {
     "data": {
      "application/vnd.jupyter.widget-view+json": {
       "model_id": "8a8726579172452baacfb6de1d19a42c",
       "version_major": 2,
       "version_minor": 0
      },
      "text/plain": [
       "Drawing 2000 posterior samples:   0%|          | 0/2000 [00:00<?, ?it/s]"
      ]
     },
     "metadata": {},
     "output_type": "display_data"
    },
    {
     "data": {
      "application/vnd.jupyter.widget-view+json": {
       "model_id": "d2b830d4d4cd47d1857eb238a806c38c",
       "version_major": 2,
       "version_minor": 0
      },
      "text/plain": [
       "Running 2000 simulations in 2000 batches.:   0%|          | 0/2000 [00:00<?, ?it/s]"
      ]
     },
     "metadata": {},
     "output_type": "display_data"
    },
    {
     "name": "stdout",
     "output_type": "stream",
     "text": [
      "Using SNPE-C with atomic loss\n",
      " Neural network successfully converged after 22 epochs."
     ]
    },
    {
     "data": {
      "application/vnd.jupyter.widget-view+json": {
       "model_id": "63a603445e2548f3927ca8ae3e1d6499",
       "version_major": 2,
       "version_minor": 0
      },
      "text/plain": [
       "Drawing 10000 posterior samples:   0%|          | 0/10000 [00:00<?, ?it/s]"
      ]
     },
     "metadata": {},
     "output_type": "display_data"
    },
    {
     "data": {
      "image/png": "[encoded data removed]",
      "text/plain": [
       "<Figure size 360x360 with 4 Axes>"
      ]
     },
     "metadata": {
      "needs_background": "light"
     },
     "output_type": "display_data"
    },
    {
     "data": {
      "application/vnd.jupyter.widget-view+json": {
       "model_id": "b8429ba74b7d477db7d6f8693735912a",
       "version_major": 2,
       "version_minor": 0
      },
      "text/plain": [
       "Drawing 2000 posterior samples:   0%|          | 0/2000 [00:00<?, ?it/s]"
      ]
     },
     "metadata": {},
     "output_type": "display_data"
    },
    {
     "data": {
      "application/vnd.jupyter.widget-view+json": {
       "model_id": "dfdc183187c64666b7370b772785fb29",
       "version_major": 2,
       "version_minor": 0
      },
      "text/plain": [
       "Running 2000 simulations in 2000 batches.:   0%|          | 0/2000 [00:00<?, ?it/s]"
      ]
     },
     "metadata": {},
     "output_type": "display_data"
    },
    {
     "name": "stdout",
     "output_type": "stream",
     "text": [
      "Using SNPE-C with atomic loss\n",
      " Neural network successfully converged after 36 epochs."
     ]
    },
    {
     "data": {
      "application/vnd.jupyter.widget-view+json": {
       "model_id": "5335fd221608409e95ea5d96bc6733e0",
       "version_major": 2,
       "version_minor": 0
      },
      "text/plain": [
       "Drawing 10000 posterior samples:   0%|          | 0/10000 [00:00<?, ?it/s]"
      ]
     },
     "metadata": {},
     "output_type": "display_data"
    },
    {
     "data": {
      "application/vnd.jupyter.widget-view+json": {
       "model_id": "eb255a38406f4a0e8c9b2d60447b19a7",
       "version_major": 2,
       "version_minor": 0
      },
      "text/plain": [
       "Drawing 2000 posterior samples:   0%|          | 0/2000 [00:00<?, ?it/s]"
      ]
     },
     "metadata": {},
     "output_type": "display_data"
    },
    {
     "data": {
      "application/vnd.jupyter.widget-view+json": {
       "model_id": "908c1a8f1ca84501b2f5e50b387bf19a",
       "version_major": 2,
       "version_minor": 0
      },
      "text/plain": [
       "Running 2000 simulations in 2000 batches.:   0%|          | 0/2000 [00:00<?, ?it/s]"
      ]
     },
     "metadata": {},
     "output_type": "display_data"
    },
    {
     "name": "stdout",
     "output_type": "stream",
     "text": [
      "Using SNPE-C with atomic loss\n",
      " Neural network successfully converged after 23 epochs."
     ]
    },
    {
     "data": {
      "application/vnd.jupyter.widget-view+json": {
       "model_id": "a53e6fa031c74b838dae3d7483134be0",
       "version_major": 2,
       "version_minor": 0
      },
      "text/plain": [
       "Drawing 10000 posterior samples:   0%|          | 0/10000 [00:00<?, ?it/s]"
      ]
     },
     "metadata": {},
     "output_type": "display_data"
    },
    {
     "data": {
      "application/vnd.jupyter.widget-view+json": {
       "model_id": "f886b843912145f585d54f9ea46f9988",
       "version_major": 2,
       "version_minor": 0
      },
      "text/plain": [
       "Drawing 2000 posterior samples:   0%|          | 0/2000 [00:00<?, ?it/s]"
      ]
     },
     "metadata": {},
     "output_type": "display_data"
    },
    {
     "data": {
      "application/vnd.jupyter.widget-view+json": {
       "model_id": "dc106fecc5da4dd5bed1a574a7ce450a",
       "version_major": 2,
       "version_minor": 0
      },
      "text/plain": [
       "Running 2000 simulations in 2000 batches.:   0%|          | 0/2000 [00:00<?, ?it/s]"
      ]
     },
     "metadata": {},
     "output_type": "display_data"
    },
    {
     "name": "stdout",
     "output_type": "stream",
     "text": [
      "Using SNPE-C with atomic loss\n",
      " Neural network successfully converged after 27 epochs."
     ]
    },
    {
     "data": {
      "application/vnd.jupyter.widget-view+json": {
       "model_id": "04af10f4a901410b8e40a93ac2abee11",
       "version_major": 2,
       "version_minor": 0
      },
      "text/plain": [
       "Drawing 10000 posterior samples:   0%|          | 0/10000 [00:00<?, ?it/s]"
      ]
     },
     "metadata": {},
     "output_type": "display_data"
    },
    {
     "data": {
      "application/vnd.jupyter.widget-view+json": {
       "model_id": "d97973c70014436ab4f6f3c9a75532c2",
       "version_major": 2,
       "version_minor": 0
      },
      "text/plain": [
       "Drawing 2000 posterior samples:   0%|          | 0/2000 [00:00<?, ?it/s]"
      ]
     },
     "metadata": {},
     "output_type": "display_data"
    },
    {
     "data": {
      "application/vnd.jupyter.widget-view+json": {
       "model_id": "49abf5a8bc1d4550bea9e34c5fdd519d",
       "version_major": 2,
       "version_minor": 0
      },
      "text/plain": [
       "Running 2000 simulations in 2000 batches.:   0%|          | 0/2000 [00:00<?, ?it/s]"
      ]
     },
     "metadata": {},
     "output_type": "display_data"
    },
    {
     "name": "stdout",
     "output_type": "stream",
     "text": [
      "Using SNPE-C with atomic loss\n",
      " Neural network successfully converged after 22 epochs."
     ]
    },
    {
     "data": {
      "application/vnd.jupyter.widget-view+json": {
       "model_id": "feee63f0ef324d27bc72037450e9e619",
       "version_major": 2,
       "version_minor": 0
      },
      "text/plain": [
       "Drawing 10000 posterior samples:   0%|          | 0/10000 [00:00<?, ?it/s]"
      ]
     },
     "metadata": {},
     "output_type": "display_data"
    },
    {
     "data": {
      "application/vnd.jupyter.widget-view+json": {
       "model_id": "3cd079e695e74fbf82ededcc0832dc10",
       "version_major": 2,
       "version_minor": 0
      },
      "text/plain": [
       "Drawing 2000 posterior samples:   0%|          | 0/2000 [00:00<?, ?it/s]"
      ]
     },
     "metadata": {},
     "output_type": "display_data"
    },
    {
     "data": {
      "application/vnd.jupyter.widget-view+json": {
       "model_id": "998fa17b8d4642239359885b96799279",
       "version_major": 2,
       "version_minor": 0
      },
      "text/plain": [
       "Running 2000 simulations in 2000 batches.:   0%|          | 0/2000 [00:00<?, ?it/s]"
      ]
     },
     "metadata": {},
     "output_type": "display_data"
    },
    {
     "name": "stdout",
     "output_type": "stream",
     "text": [
      "Using SNPE-C with atomic loss\n",
      " Neural network successfully converged after 21 epochs."
     ]
    },
    {
     "data": {
      "application/vnd.jupyter.widget-view+json": {
       "model_id": "b7826c3cc1e640629c50b36bdbd08688",
       "version_major": 2,
       "version_minor": 0
      },
      "text/plain": [
       "Drawing 10000 posterior samples:   0%|          | 0/10000 [00:00<?, ?it/s]"
      ]
     },
     "metadata": {},
     "output_type": "display_data"
    },
    {
     "data": {
      "image/png": "[encoded data removed]",
      "text/plain": [
       "<Figure size 360x360 with 4 Axes>"
      ]
     },
     "metadata": {
      "needs_background": "light"
     },
     "output_type": "display_data"
    },
    {
     "data": {
      "application/vnd.jupyter.widget-view+json": {
       "model_id": "6fe336c93d0241149c60e120d29e913d",
       "version_major": 2,
       "version_minor": 0
      },
      "text/plain": [
       "Drawing 2000 posterior samples:   0%|          | 0/2000 [00:00<?, ?it/s]"
      ]
     },
     "metadata": {},
     "output_type": "display_data"
    },
    {
     "data": {
      "application/vnd.jupyter.widget-view+json": {
       "model_id": "00968af3a7c84ca490ea10e7cf38d844",
       "version_major": 2,
       "version_minor": 0
      },
      "text/plain": [
       "Running 2000 simulations in 2000 batches.:   0%|          | 0/2000 [00:00<?, ?it/s]"
      ]
     },
     "metadata": {},
     "output_type": "display_data"
    },
    {
     "name": "stdout",
     "output_type": "stream",
     "text": [
      "Using SNPE-C with atomic loss\n",
      " Neural network successfully converged after 25 epochs."
     ]
    },
    {
     "data": {
      "application/vnd.jupyter.widget-view+json": {
       "model_id": "4a314e818c7142f8b5267716c30c7a3a",
       "version_major": 2,
       "version_minor": 0
      },
      "text/plain": [
       "Drawing 10000 posterior samples:   0%|          | 0/10000 [00:00<?, ?it/s]"
      ]
     },
     "metadata": {},
     "output_type": "display_data"
    },
    {
     "data": {
      "application/vnd.jupyter.widget-view+json": {
       "model_id": "3d74e72c2f844db98809cf4372707dd9",
       "version_major": 2,
       "version_minor": 0
      },
      "text/plain": [
       "Drawing 2000 posterior samples:   0%|          | 0/2000 [00:00<?, ?it/s]"
      ]
     },
     "metadata": {},
     "output_type": "display_data"
    },
    {
     "data": {
      "application/vnd.jupyter.widget-view+json": {
       "model_id": "2e87c42ecb9443e28df1155a78b1da57",
       "version_major": 2,
       "version_minor": 0
      },
      "text/plain": [
       "Running 2000 simulations in 2000 batches.:   0%|          | 0/2000 [00:00<?, ?it/s]"
      ]
     },
     "metadata": {},
     "output_type": "display_data"
    },
    {
     "name": "stdout",
     "output_type": "stream",
     "text": [
      "Using SNPE-C with atomic loss\n",
      " Neural network successfully converged after 21 epochs."
     ]
    },
    {
     "data": {
      "application/vnd.jupyter.widget-view+json": {
       "model_id": "3b008a795dfd4b5bbac4c0f6f6c7b848",
       "version_major": 2,
       "version_minor": 0
      },
      "text/plain": [
       "Drawing 10000 posterior samples:   0%|          | 0/10000 [00:00<?, ?it/s]"
      ]
     },
     "metadata": {},
     "output_type": "display_data"
    },
    {
     "data": {
      "application/vnd.jupyter.widget-view+json": {
       "model_id": "dd368bbc917b41f39f4684fcb45d7588",
       "version_major": 2,
       "version_minor": 0
      },
      "text/plain": [
       "Drawing 2000 posterior samples:   0%|          | 0/2000 [00:00<?, ?it/s]"
      ]
     },
     "metadata": {},
     "output_type": "display_data"
    },
    {
     "data": {
      "application/vnd.jupyter.widget-view+json": {
       "model_id": "d015c563b07f47409e99568f85368e58",
       "version_major": 2,
       "version_minor": 0
      },
      "text/plain": [
       "Running 2000 simulations in 2000 batches.:   0%|          | 0/2000 [00:00<?, ?it/s]"
      ]
     },
     "metadata": {},
     "output_type": "display_data"
    },
    {
     "name": "stdout",
     "output_type": "stream",
     "text": [
      "Using SNPE-C with atomic loss\n",
      " Neural network successfully converged after 22 epochs."
     ]
    },
    {
     "data": {
      "application/vnd.jupyter.widget-view+json": {
       "model_id": "352a8f7c718e41a2a9d879d519bc1f72",
       "version_major": 2,
       "version_minor": 0
      },
      "text/plain": [
       "Drawing 10000 posterior samples:   0%|          | 0/10000 [00:00<?, ?it/s]"
      ]
     },
     "metadata": {},
     "output_type": "display_data"
    },
    {
     "data": {
      "application/vnd.jupyter.widget-view+json": {
       "model_id": "12f33fefd70d4ac79b5af93fdb642ce2",
       "version_major": 2,
       "version_minor": 0
      },
      "text/plain": [
       "Drawing 2000 posterior samples:   0%|          | 0/2000 [00:00<?, ?it/s]"
      ]
     },
     "metadata": {},
     "output_type": "display_data"
    },
    {
     "data": {
      "application/vnd.jupyter.widget-view+json": {
       "model_id": "09bff3de33cc4556868bf4801b0fde51",
       "version_major": 2,
       "version_minor": 0
      },
      "text/plain": [
       "Running 2000 simulations in 2000 batches.:   0%|          | 0/2000 [00:00<?, ?it/s]"
      ]
     },
     "metadata": {},
     "output_type": "display_data"
    },
    {
     "name": "stdout",
     "output_type": "stream",
     "text": [
      "Using SNPE-C with atomic loss\n",
      " Neural network successfully converged after 37 epochs."
     ]
    },
    {
     "data": {
      "application/vnd.jupyter.widget-view+json": {
       "model_id": "39650e9ae75a491686281a706d6bf9af",
       "version_major": 2,
       "version_minor": 0
      },
      "text/plain": [
       "Drawing 10000 posterior samples:   0%|          | 0/10000 [00:00<?, ?it/s]"
      ]
     },
     "metadata": {},
     "output_type": "display_data"
    },
    {
     "data": {
      "application/vnd.jupyter.widget-view+json": {
       "model_id": "5ccaa8b05a844180a91c34b3448035eb",
       "version_major": 2,
       "version_minor": 0
      },
      "text/plain": [
       "Drawing 2000 posterior samples:   0%|          | 0/2000 [00:00<?, ?it/s]"
      ]
     },
     "metadata": {},
     "output_type": "display_data"
    },
    {
     "data": {
      "application/vnd.jupyter.widget-view+json": {
       "model_id": "47bea19e40fc4e48bd995df60f80c010",
       "version_major": 2,
       "version_minor": 0
      },
      "text/plain": [
       "Running 2000 simulations in 2000 batches.:   0%|          | 0/2000 [00:00<?, ?it/s]"
      ]
     },
     "metadata": {},
     "output_type": "display_data"
    },
    {
     "name": "stdout",
     "output_type": "stream",
     "text": [
      "[pyKeOps]: Warning, no cuda detected. Switching to cpu only.[pyKeOps]: Warning, no cuda detected. Switching to cpu only.[pyKeOps]: Warning, no cuda detected. Switching to cpu only.\n",
      "\n",
      "\n",
      "[pyKeOps]: Warning, no cuda detected. Switching to cpu only.\n",
      "[pyKeOps]: Warning, no cuda detected. Switching to cpu only.\n",
      "[pyKeOps]: Warning, no cuda detected. Switching to cpu only.\n",
      "[pyKeOps]: Warning, no cuda detected. Switching to cpu only.\n",
      "Using SNPE-C with atomic loss\n",
      " Neural network successfully converged after 21 epochs."
     ]
    },
    {
     "data": {
      "application/vnd.jupyter.widget-view+json": {
       "model_id": "73ce432071484573856cb6985af6b8e0",
       "version_major": 2,
       "version_minor": 0
      },
      "text/plain": [
       "Drawing 10000 posterior samples:   0%|          | 0/10000 [00:00<?, ?it/s]"
      ]
     },
     "metadata": {},
     "output_type": "display_data"
    },
    {
     "data": {
      "image/png": "[encoded data removed]",
      "text/plain": [
       "<Figure size 360x360 with 4 Axes>"
      ]
     },
     "metadata": {
      "needs_background": "light"
     },
     "output_type": "display_data"
    },
    {
     "data": {
      "application/vnd.jupyter.widget-view+json": {
       "model_id": "1d906f1a1fd3443e90f6341b0205fbcb",
       "version_major": 2,
       "version_minor": 0
      },
      "text/plain": [
       "Drawing 2000 posterior samples:   0%|          | 0/2000 [00:00<?, ?it/s]"
      ]
     },
     "metadata": {},
     "output_type": "display_data"
    },
    {
     "data": {
      "application/vnd.jupyter.widget-view+json": {
       "model_id": "2806d4b779ef49a19ac260513eba76e3",
       "version_major": 2,
       "version_minor": 0
      },
      "text/plain": [
       "Running 2000 simulations in 2000 batches.:   0%|          | 0/2000 [00:00<?, ?it/s]"
      ]
     },
     "metadata": {},
     "output_type": "display_data"
    },
    {
     "name": "stdout",
     "output_type": "stream",
     "text": [
      "[pyKeOps]: Warning, no cuda detected. Switching to cpu only.\n",
      "[pyKeOps]: Warning, no cuda detected. Switching to cpu only.\n",
      "[pyKeOps]: Warning, no cuda detected. Switching to cpu only.\n",
      "[pyKeOps]: Warning, no cuda detected. Switching to cpu only.\n",
      "[pyKeOps]: Warning, no cuda detected. Switching to cpu only.\n",
      "[pyKeOps]: Warning, no cuda detected. Switching to cpu only.\n",
      "[pyKeOps]: Warning, no cuda detected. Switching to cpu only.\n",
      "Using SNPE-C with atomic loss\n",
      " Neural network successfully converged after 21 epochs."
     ]
    },
    {
     "data": {
      "application/vnd.jupyter.widget-view+json": {
       "model_id": "37bdc399b7a044b1aba786987e4b35ac",
       "version_major": 2,
       "version_minor": 0
      },
      "text/plain": [
       "Drawing 10000 posterior samples:   0%|          | 0/10000 [00:00<?, ?it/s]"
      ]
     },
     "metadata": {},
     "output_type": "display_data"
    },
    {
     "data": {
      "application/vnd.jupyter.widget-view+json": {
       "model_id": "38b15d7e85d54a0b861de28ad8299559",
       "version_major": 2,
       "version_minor": 0
      },
      "text/plain": [
       "Drawing 2000 posterior samples:   0%|          | 0/2000 [00:00<?, ?it/s]"
      ]
     },
     "metadata": {},
     "output_type": "display_data"
    },
    {
     "data": {
      "application/vnd.jupyter.widget-view+json": {
       "model_id": "f0babadbd6844bdc98aabeda1ad9af14",
       "version_major": 2,
       "version_minor": 0
      },
      "text/plain": [
       "Running 2000 simulations in 2000 batches.:   0%|          | 0/2000 [00:00<?, ?it/s]"
      ]
     },
     "metadata": {},
     "output_type": "display_data"
    },
    {
     "name": "stdout",
     "output_type": "stream",
     "text": [
      "[pyKeOps]: Warning, no cuda detected. Switching to cpu only.\n",
      "[pyKeOps]: Warning, no cuda detected. Switching to cpu only.\n",
      "[pyKeOps]: Warning, no cuda detected. Switching to cpu only.\n",
      "[pyKeOps]: Warning, no cuda detected. Switching to cpu only.\n",
      "[pyKeOps]: Warning, no cuda detected. Switching to cpu only.\n",
      "[pyKeOps]: Warning, no cuda detected. Switching to cpu only.\n",
      "[pyKeOps]: Warning, no cuda detected. Switching to cpu only.\n",
      "Using SNPE-C with atomic loss\n",
      " Neural network successfully converged after 21 epochs."
     ]
    },
    {
     "data": {
      "application/vnd.jupyter.widget-view+json": {
       "model_id": "226d1f4715f8478093adbaeb66572303",
       "version_major": 2,
       "version_minor": 0
      },
      "text/plain": [
       "Drawing 10000 posterior samples:   0%|          | 0/10000 [00:00<?, ?it/s]"
      ]
     },
     "metadata": {},
     "output_type": "display_data"
    },
    {
     "data": {
      "application/vnd.jupyter.widget-view+json": {
       "model_id": "f73f30e8640141ee81d082a99cbae6b2",
       "version_major": 2,
       "version_minor": 0
      },
      "text/plain": [
       "Drawing 2000 posterior samples:   0%|          | 0/2000 [00:00<?, ?it/s]"
      ]
     },
     "metadata": {},
     "output_type": "display_data"
    },
    {
     "data": {
      "application/vnd.jupyter.widget-view+json": {
       "model_id": "2393e04ef1ec4d959ce26dce85cc0148",
       "version_major": 2,
       "version_minor": 0
      },
      "text/plain": [
       "Running 2000 simulations in 2000 batches.:   0%|          | 0/2000 [00:00<?, ?it/s]"
      ]
     },
     "metadata": {},
     "output_type": "display_data"
    },
    {
     "name": "stdout",
     "output_type": "stream",
     "text": [
      "[pyKeOps]: Warning, no cuda detected. Switching to cpu only.\n",
      "[pyKeOps]: Warning, no cuda detected. Switching to cpu only.\n",
      "[pyKeOps]: Warning, no cuda detected. Switching to cpu only.\n",
      "[pyKeOps]: Warning, no cuda detected. Switching to cpu only.\n",
      "[pyKeOps]: Warning, no cuda detected. Switching to cpu only.\n",
      "[pyKeOps]: Warning, no cuda detected. Switching to cpu only.\n",
      "[pyKeOps]: Warning, no cuda detected. Switching to cpu only.\n",
      "Using SNPE-C with atomic loss\n",
      " Neural network successfully converged after 24 epochs."
     ]
    },
    {
     "data": {
      "application/vnd.jupyter.widget-view+json": {
       "model_id": "01d73bf8ec8845268c58f43b8b9f664e",
       "version_major": 2,
       "version_minor": 0
      },
      "text/plain": [
       "Drawing 10000 posterior samples:   0%|          | 0/10000 [00:00<?, ?it/s]"
      ]
     },
     "metadata": {},
     "output_type": "display_data"
    },
    {
     "data": {
      "application/vnd.jupyter.widget-view+json": {
       "model_id": "99a289d83f934fb49477ea329fdd440f",
       "version_major": 2,
       "version_minor": 0
      },
      "text/plain": [
       "Drawing 2000 posterior samples:   0%|          | 0/2000 [00:00<?, ?it/s]"
      ]
     },
     "metadata": {},
     "output_type": "display_data"
    },
    {
     "data": {
      "application/vnd.jupyter.widget-view+json": {
       "model_id": "f32a18b639e94ff2863b40f28ad2c342",
       "version_major": 2,
       "version_minor": 0
      },
      "text/plain": [
       "Running 2000 simulations in 2000 batches.:   0%|          | 0/2000 [00:00<?, ?it/s]"
      ]
     },
     "metadata": {},
     "output_type": "display_data"
    },
    {
     "name": "stdout",
     "output_type": "stream",
     "text": [
      "[pyKeOps]: Warning, no cuda detected. Switching to cpu only.\n",
      "[pyKeOps]: Warning, no cuda detected. Switching to cpu only.\n",
      "[pyKeOps]: Warning, no cuda detected. Switching to cpu only.\n",
      "[pyKeOps]: Warning, no cuda detected. Switching to cpu only.\n",
      "[pyKeOps]: Warning, no cuda detected. Switching to cpu only.\n",
      "[pyKeOps]: Warning, no cuda detected. Switching to cpu only.\n",
      "[pyKeOps]: Warning, no cuda detected. Switching to cpu only.\n",
      "Using SNPE-C with atomic loss\n",
      " Neural network successfully converged after 21 epochs."
     ]
    },
    {
     "data": {
      "application/vnd.jupyter.widget-view+json": {
       "model_id": "a10316bf41c048c2ba1f00772042854c",
       "version_major": 2,
       "version_minor": 0
      },
      "text/plain": [
       "Drawing 10000 posterior samples:   0%|          | 0/10000 [00:00<?, ?it/s]"
      ]
     },
     "metadata": {},
     "output_type": "display_data"
    },
    {
     "data": {
      "application/vnd.jupyter.widget-view+json": {
       "model_id": "beaee9f40e1e4340b126f316bcf58d8a",
       "version_major": 2,
       "version_minor": 0
      },
      "text/plain": [
       "Drawing 2000 posterior samples:   0%|          | 0/2000 [00:00<?, ?it/s]"
      ]
     },
     "metadata": {},
     "output_type": "display_data"
    },
    {
     "data": {
      "application/vnd.jupyter.widget-view+json": {
       "model_id": "daae985d841d46ef9c1bae4995b81eb5",
       "version_major": 2,
       "version_minor": 0
      },
      "text/plain": [
       "Running 2000 simulations in 2000 batches.:   0%|          | 0/2000 [00:00<?, ?it/s]"
      ]
     },
     "metadata": {},
     "output_type": "display_data"
    },
    {
     "name": "stdout",
     "output_type": "stream",
     "text": [
      "[pyKeOps]: Warning, no cuda detected. Switching to cpu only.\n",
      "[pyKeOps]: Warning, no cuda detected. Switching to cpu only.\n",
      "[pyKeOps]: Warning, no cuda detected. Switching to cpu only.\n",
      "[pyKeOps]: Warning, no cuda detected. Switching to cpu only.\n",
      "[pyKeOps]: Warning, no cuda detected. Switching to cpu only.\n",
      "[pyKeOps]: Warning, no cuda detected. Switching to cpu only.\n",
      "[pyKeOps]: Warning, no cuda detected. Switching to cpu only.\n",
      "Using SNPE-C with atomic loss\n",
      " Neural network successfully converged after 23 epochs."
     ]
    },
    {
     "data": {
      "application/vnd.jupyter.widget-view+json": {
       "model_id": "613856d5091a46bbadc92172fe271702",
       "version_major": 2,
       "version_minor": 0
      },
      "text/plain": [
       "Drawing 10000 posterior samples:   0%|          | 0/10000 [00:00<?, ?it/s]"
      ]
     },
     "metadata": {},
     "output_type": "display_data"
    },
    {
     "data": {
      "image/png": "[encoded data removed]",
      "text/plain": [
       "<Figure size 360x360 with 4 Axes>"
      ]
     },
     "metadata": {
      "needs_background": "light"
     },
     "output_type": "display_data"
    }
   ],
   "source": [
    "num_rounds = 20\n",
    "posteriors = []\n",
    "simulator, prior = prepare_for_sbi(simulator_wrapper_sorted, prior_full)\n",
    "proposal = prior\n",
    "inference = SNPE(prior=prior)\n",
    "for i in range(num_rounds):\n",
    "    theta, x = simulate_for_sbi(simulator, proposal, num_simulations=2000, num_workers=7)\n",
    "    density_estimator = inference.append_simulations(theta, x, proposal=proposal).train()\n",
    "    posterior = inference.build_posterior(density_estimator)\n",
    "    posteriors.append(posterior)\n",
    "    proposal = posterior.set_default_x(ref_obs33)\n",
    "    samples = posterior.sample((10000,))\n",
    "    if (i+1)%5==0:\n",
    "        fig, axes = analysis.pairplot(samples,\n",
    "                                limits=[[1e-3,30.], [1e-3,30.]],\n",
    "                                ticks=[[1e-3,30.], [1e-3,30.]],\n",
    "                                figsize=(5,5),\n",
    "                                points=np.array([3,3]),\n",
    "                                points_offdiag={'markersize': 6},\n",
    "                                points_colors='r');\n",
    "        plt.show()"
   ]
  },
  {
   "cell_type": "code",
   "execution_count": 21,
   "metadata": {},
   "outputs": [
    {
     "data": {
      "application/vnd.jupyter.widget-view+json": {
       "model_id": "8adb0419b44849a19f21c228eeeeeb24",
       "version_major": 2,
       "version_minor": 0
      },
      "text/plain": [
       "Running 2000 simulations in 2000 batches.:   0%|          | 0/2000 [00:00<?, ?it/s]"
      ]
     },
     "metadata": {},
     "output_type": "display_data"
    },
    {
     "name": "stdout",
     "output_type": "stream",
     "text": [
      "[pyKeOps]: Warning, no cuda detected. Switching to cpu only.\n",
      "[pyKeOps]: Warning, no cuda detected. Switching to cpu only.\n",
      "[pyKeOps]: Warning, no cuda detected. Switching to cpu only.\n",
      "[pyKeOps]: Warning, no cuda detected. Switching to cpu only.\n",
      "[pyKeOps]: Warning, no cuda detected. Switching to cpu only.\n",
      "[pyKeOps]: Warning, no cuda detected. Switching to cpu only.\n",
      "[pyKeOps]: Warning, no cuda detected. Switching to cpu only.\n",
      " Neural network successfully converged after 39 epochs."
     ]
    },
    {
     "data": {
      "application/vnd.jupyter.widget-view+json": {
       "model_id": "131cc7a2e1254fd092c6eb5b263be9c7",
       "version_major": 2,
       "version_minor": 0
      },
      "text/plain": [
       "Drawing 10000 posterior samples:   0%|          | 0/10000 [00:00<?, ?it/s]"
      ]
     },
     "metadata": {},
     "output_type": "display_data"
    },
    {
     "data": {
      "application/vnd.jupyter.widget-view+json": {
       "model_id": "cbc018d9147642babf2b22043db71f93",
       "version_major": 2,
       "version_minor": 0
      },
      "text/plain": [
       "Drawing 2000 posterior samples:   0%|          | 0/2000 [00:00<?, ?it/s]"
      ]
     },
     "metadata": {},
     "output_type": "display_data"
    },
    {
     "data": {
      "application/vnd.jupyter.widget-view+json": {
       "model_id": "a6a4968329ed4c01852852a7dcf02232",
       "version_major": 2,
       "version_minor": 0
      },
      "text/plain": [
       "Running 2000 simulations in 2000 batches.:   0%|          | 0/2000 [00:00<?, ?it/s]"
      ]
     },
     "metadata": {},
     "output_type": "display_data"
    },
    {
     "name": "stdout",
     "output_type": "stream",
     "text": [
      "Using SNPE-C with atomic loss\n",
      " Neural network successfully converged after 26 epochs."
     ]
    },
    {
     "data": {
      "application/vnd.jupyter.widget-view+json": {
       "model_id": "6e95c2b03385427ab9687c1a099db7bc",
       "version_major": 2,
       "version_minor": 0
      },
      "text/plain": [
       "Drawing 10000 posterior samples:   0%|          | 0/10000 [00:00<?, ?it/s]"
      ]
     },
     "metadata": {},
     "output_type": "display_data"
    },
    {
     "data": {
      "application/vnd.jupyter.widget-view+json": {
       "model_id": "af62982bd49e444a9506f63ca09b07b0",
       "version_major": 2,
       "version_minor": 0
      },
      "text/plain": [
       "Drawing 2000 posterior samples:   0%|          | 0/2000 [00:00<?, ?it/s]"
      ]
     },
     "metadata": {},
     "output_type": "display_data"
    },
    {
     "data": {
      "application/vnd.jupyter.widget-view+json": {
       "model_id": "a357f9b15c7c45de9d98d11036e0b0a1",
       "version_major": 2,
       "version_minor": 0
      },
      "text/plain": [
       "Running 2000 simulations in 2000 batches.:   0%|          | 0/2000 [00:00<?, ?it/s]"
      ]
     },
     "metadata": {},
     "output_type": "display_data"
    },
    {
     "name": "stdout",
     "output_type": "stream",
     "text": [
      "Using SNPE-C with atomic loss\n",
      " Neural network successfully converged after 38 epochs."
     ]
    },
    {
     "data": {
      "application/vnd.jupyter.widget-view+json": {
       "model_id": "13a67ecc894a4a62985fab80b9494a09",
       "version_major": 2,
       "version_minor": 0
      },
      "text/plain": [
       "Drawing 10000 posterior samples:   0%|          | 0/10000 [00:00<?, ?it/s]"
      ]
     },
     "metadata": {},
     "output_type": "display_data"
    },
    {
     "data": {
      "application/vnd.jupyter.widget-view+json": {
       "model_id": "792ccbbb252047218c971492a244e55d",
       "version_major": 2,
       "version_minor": 0
      },
      "text/plain": [
       "Drawing 2000 posterior samples:   0%|          | 0/2000 [00:00<?, ?it/s]"
      ]
     },
     "metadata": {},
     "output_type": "display_data"
    },
    {
     "data": {
      "application/vnd.jupyter.widget-view+json": {
       "model_id": "6836de550c444402af9ea4a9b2a825db",
       "version_major": 2,
       "version_minor": 0
      },
      "text/plain": [
       "Running 2000 simulations in 2000 batches.:   0%|          | 0/2000 [00:00<?, ?it/s]"
      ]
     },
     "metadata": {},
     "output_type": "display_data"
    },
    {
     "name": "stdout",
     "output_type": "stream",
     "text": [
      "Using SNPE-C with atomic loss\n",
      " Neural network successfully converged after 26 epochs."
     ]
    },
    {
     "data": {
      "application/vnd.jupyter.widget-view+json": {
       "model_id": "d451de83d41e42b4bd5bbcef84b00702",
       "version_major": 2,
       "version_minor": 0
      },
      "text/plain": [
       "Drawing 10000 posterior samples:   0%|          | 0/10000 [00:00<?, ?it/s]"
      ]
     },
     "metadata": {},
     "output_type": "display_data"
    },
    {
     "data": {
      "application/vnd.jupyter.widget-view+json": {
       "model_id": "7d1c88a00c67424792f578626e0c7214",
       "version_major": 2,
       "version_minor": 0
      },
      "text/plain": [
       "Drawing 2000 posterior samples:   0%|          | 0/2000 [00:00<?, ?it/s]"
      ]
     },
     "metadata": {},
     "output_type": "display_data"
    },
    {
     "data": {
      "application/vnd.jupyter.widget-view+json": {
       "model_id": "1be749b7395244b08f58d024d72e6196",
       "version_major": 2,
       "version_minor": 0
      },
      "text/plain": [
       "Running 2000 simulations in 2000 batches.:   0%|          | 0/2000 [00:00<?, ?it/s]"
      ]
     },
     "metadata": {},
     "output_type": "display_data"
    },
    {
     "name": "stdout",
     "output_type": "stream",
     "text": [
      "Using SNPE-C with atomic loss\n",
      " Neural network successfully converged after 28 epochs."
     ]
    },
    {
     "data": {
      "application/vnd.jupyter.widget-view+json": {
       "model_id": "921f5dc1120245b5ae6017c2d4d84ac5",
       "version_major": 2,
       "version_minor": 0
      },
      "text/plain": [
       "Drawing 10000 posterior samples:   0%|          | 0/10000 [00:00<?, ?it/s]"
      ]
     },
     "metadata": {},
     "output_type": "display_data"
    },
    {
     "data": {
      "image/png": "[encoded data removed]",
      "text/plain": [
       "<Figure size 360x360 with 4 Axes>"
      ]
     },
     "metadata": {
      "needs_background": "light"
     },
     "output_type": "display_data"
    },
    {
     "data": {
      "application/vnd.jupyter.widget-view+json": {
       "model_id": "1716ce0e10ca4f1dacb9f2a034740921",
       "version_major": 2,
       "version_minor": 0
      },
      "text/plain": [
       "Drawing 2000 posterior samples:   0%|          | 0/2000 [00:00<?, ?it/s]"
      ]
     },
     "metadata": {},
     "output_type": "display_data"
    },
    {
     "data": {
      "application/vnd.jupyter.widget-view+json": {
       "model_id": "af9fef701d7a4cddaf23722fdff2ef2f",
       "version_major": 2,
       "version_minor": 0
      },
      "text/plain": [
       "Running 2000 simulations in 2000 batches.:   0%|          | 0/2000 [00:00<?, ?it/s]"
      ]
     },
     "metadata": {},
     "output_type": "display_data"
    },
    {
     "name": "stdout",
     "output_type": "stream",
     "text": [
      "Using SNPE-C with atomic loss\n",
      " Training neural network. Epochs trained: 5"
     ]
    },
    {
     "ename": "KeyboardInterrupt",
     "evalue": "",
     "output_type": "error",
     "traceback": [
      "\u001b[0;31m---------------------------------------------------------------------------\u001b[0m",
      "\u001b[0;31mKeyboardInterrupt\u001b[0m                         Traceback (most recent call last)",
      "\u001b[0;32m/tmp/ipykernel_1005/2429432322.py\u001b[0m in \u001b[0;36m<module>\u001b[0;34m\u001b[0m\n\u001b[1;32m      6\u001b[0m \u001b[0;32mfor\u001b[0m \u001b[0mi\u001b[0m \u001b[0;32min\u001b[0m \u001b[0mrange\u001b[0m\u001b[0;34m(\u001b[0m\u001b[0mnum_rounds\u001b[0m\u001b[0;34m)\u001b[0m\u001b[0;34m:\u001b[0m\u001b[0;34m\u001b[0m\u001b[0;34m\u001b[0m\u001b[0m\n\u001b[1;32m      7\u001b[0m     \u001b[0mtheta\u001b[0m\u001b[0;34m,\u001b[0m \u001b[0mx\u001b[0m \u001b[0;34m=\u001b[0m \u001b[0msimulate_for_sbi\u001b[0m\u001b[0;34m(\u001b[0m\u001b[0msimulator\u001b[0m\u001b[0;34m,\u001b[0m \u001b[0mproposal\u001b[0m\u001b[0;34m,\u001b[0m \u001b[0mnum_simulations\u001b[0m\u001b[0;34m=\u001b[0m\u001b[0;36m2000\u001b[0m\u001b[0;34m,\u001b[0m \u001b[0mnum_workers\u001b[0m\u001b[0;34m=\u001b[0m\u001b[0;36m7\u001b[0m\u001b[0;34m)\u001b[0m\u001b[0;34m\u001b[0m\u001b[0;34m\u001b[0m\u001b[0m\n\u001b[0;32m----> 8\u001b[0;31m     \u001b[0mdensity_estimator\u001b[0m \u001b[0;34m=\u001b[0m \u001b[0minference\u001b[0m\u001b[0;34m.\u001b[0m\u001b[0mappend_simulations\u001b[0m\u001b[0;34m(\u001b[0m\u001b[0mtheta\u001b[0m\u001b[0;34m,\u001b[0m \u001b[0mx\u001b[0m\u001b[0;34m,\u001b[0m \u001b[0mproposal\u001b[0m\u001b[0;34m=\u001b[0m\u001b[0mproposal\u001b[0m\u001b[0;34m)\u001b[0m\u001b[0;34m.\u001b[0m\u001b[0mtrain\u001b[0m\u001b[0;34m(\u001b[0m\u001b[0;34m)\u001b[0m\u001b[0;34m\u001b[0m\u001b[0;34m\u001b[0m\u001b[0m\n\u001b[0m\u001b[1;32m      9\u001b[0m     \u001b[0mposterior\u001b[0m \u001b[0;34m=\u001b[0m \u001b[0minference\u001b[0m\u001b[0;34m.\u001b[0m\u001b[0mbuild_posterior\u001b[0m\u001b[0;34m(\u001b[0m\u001b[0mdensity_estimator\u001b[0m\u001b[0;34m)\u001b[0m\u001b[0;34m\u001b[0m\u001b[0;34m\u001b[0m\u001b[0m\n\u001b[1;32m     10\u001b[0m     \u001b[0mposteriors\u001b[0m\u001b[0;34m.\u001b[0m\u001b[0mappend\u001b[0m\u001b[0;34m(\u001b[0m\u001b[0mposterior\u001b[0m\u001b[0;34m)\u001b[0m\u001b[0;34m\u001b[0m\u001b[0;34m\u001b[0m\u001b[0m\n",
      "\u001b[0;32m~/sb_inference/sbi/sbi/inference/snpe/snpe_c.py\u001b[0m in \u001b[0;36mtrain\u001b[0;34m(self, num_atoms, training_batch_size, learning_rate, validation_fraction, stop_after_epochs, max_num_epochs, clip_max_norm, summary_fun, calibration_kernel, exclude_invalid_x, resume_training, force_first_round_loss, discard_prior_samples, use_combined_loss, retrain_from_scratch, show_train_summary, dataloader_kwargs)\u001b[0m\n\u001b[1;32m    180\u001b[0m                 \u001b[0mself\u001b[0m\u001b[0;34m.\u001b[0m\u001b[0m_set_state_for_mog_proposal\u001b[0m\u001b[0;34m(\u001b[0m\u001b[0;34m)\u001b[0m\u001b[0;34m\u001b[0m\u001b[0;34m\u001b[0m\u001b[0m\n\u001b[1;32m    181\u001b[0m \u001b[0;34m\u001b[0m\u001b[0m\n\u001b[0;32m--> 182\u001b[0;31m         \u001b[0;32mreturn\u001b[0m \u001b[0msuper\u001b[0m\u001b[0;34m(\u001b[0m\u001b[0;34m)\u001b[0m\u001b[0;34m.\u001b[0m\u001b[0mtrain\u001b[0m\u001b[0;34m(\u001b[0m\u001b[0;34m**\u001b[0m\u001b[0mkwargs\u001b[0m\u001b[0;34m)\u001b[0m\u001b[0;34m\u001b[0m\u001b[0;34m\u001b[0m\u001b[0m\n\u001b[0m\u001b[1;32m    183\u001b[0m \u001b[0;34m\u001b[0m\u001b[0m\n\u001b[1;32m    184\u001b[0m     \u001b[0;32mdef\u001b[0m \u001b[0m_set_state_for_mog_proposal\u001b[0m\u001b[0;34m(\u001b[0m\u001b[0mself\u001b[0m\u001b[0;34m)\u001b[0m \u001b[0;34m->\u001b[0m \u001b[0;32mNone\u001b[0m\u001b[0;34m:\u001b[0m\u001b[0;34m\u001b[0m\u001b[0;34m\u001b[0m\u001b[0m\n",
      "\u001b[0;32m~/sb_inference/sbi/sbi/inference/snpe/snpe_base.py\u001b[0m in \u001b[0;36mtrain\u001b[0;34m(self, training_batch_size, learning_rate, validation_fraction, stop_after_epochs, max_num_epochs, clip_max_norm, summary_fun, calibration_kernel, exclude_invalid_x, resume_training, force_first_round_loss, discard_prior_samples, retrain_from_scratch, show_train_summary, dataloader_kwargs)\u001b[0m\n\u001b[1;32m    307\u001b[0m                 \u001b[0mtrain_log_probs_sum\u001b[0m \u001b[0;34m-=\u001b[0m \u001b[0mtrain_losses\u001b[0m\u001b[0;34m.\u001b[0m\u001b[0msum\u001b[0m\u001b[0;34m(\u001b[0m\u001b[0;34m)\u001b[0m\u001b[0;34m.\u001b[0m\u001b[0mitem\u001b[0m\u001b[0;34m(\u001b[0m\u001b[0;34m)\u001b[0m\u001b[0;34m\u001b[0m\u001b[0;34m\u001b[0m\u001b[0m\n\u001b[1;32m    308\u001b[0m \u001b[0;34m\u001b[0m\u001b[0m\n\u001b[0;32m--> 309\u001b[0;31m                 \u001b[0mtrain_loss\u001b[0m\u001b[0;34m.\u001b[0m\u001b[0mbackward\u001b[0m\u001b[0;34m(\u001b[0m\u001b[0;34m)\u001b[0m\u001b[0;34m\u001b[0m\u001b[0;34m\u001b[0m\u001b[0m\n\u001b[0m\u001b[1;32m    310\u001b[0m                 \u001b[0;32mif\u001b[0m \u001b[0mclip_max_norm\u001b[0m \u001b[0;32mis\u001b[0m \u001b[0;32mnot\u001b[0m \u001b[0;32mNone\u001b[0m\u001b[0;34m:\u001b[0m\u001b[0;34m\u001b[0m\u001b[0;34m\u001b[0m\u001b[0m\n\u001b[1;32m    311\u001b[0m                     clip_grad_norm_(\n",
      "\u001b[0;32m~/anaconda3/envs/sbi/lib/python3.8/site-packages/torch/_tensor.py\u001b[0m in \u001b[0;36mbackward\u001b[0;34m(self, gradient, retain_graph, create_graph, inputs)\u001b[0m\n\u001b[1;32m    361\u001b[0m                 \u001b[0mcreate_graph\u001b[0m\u001b[0;34m=\u001b[0m\u001b[0mcreate_graph\u001b[0m\u001b[0;34m,\u001b[0m\u001b[0;34m\u001b[0m\u001b[0;34m\u001b[0m\u001b[0m\n\u001b[1;32m    362\u001b[0m                 inputs=inputs)\n\u001b[0;32m--> 363\u001b[0;31m         \u001b[0mtorch\u001b[0m\u001b[0;34m.\u001b[0m\u001b[0mautograd\u001b[0m\u001b[0;34m.\u001b[0m\u001b[0mbackward\u001b[0m\u001b[0;34m(\u001b[0m\u001b[0mself\u001b[0m\u001b[0;34m,\u001b[0m \u001b[0mgradient\u001b[0m\u001b[0;34m,\u001b[0m \u001b[0mretain_graph\u001b[0m\u001b[0;34m,\u001b[0m \u001b[0mcreate_graph\u001b[0m\u001b[0;34m,\u001b[0m \u001b[0minputs\u001b[0m\u001b[0;34m=\u001b[0m\u001b[0minputs\u001b[0m\u001b[0;34m)\u001b[0m\u001b[0;34m\u001b[0m\u001b[0;34m\u001b[0m\u001b[0m\n\u001b[0m\u001b[1;32m    364\u001b[0m \u001b[0;34m\u001b[0m\u001b[0m\n\u001b[1;32m    365\u001b[0m     \u001b[0;32mdef\u001b[0m \u001b[0mregister_hook\u001b[0m\u001b[0;34m(\u001b[0m\u001b[0mself\u001b[0m\u001b[0;34m,\u001b[0m \u001b[0mhook\u001b[0m\u001b[0;34m)\u001b[0m\u001b[0;34m:\u001b[0m\u001b[0;34m\u001b[0m\u001b[0;34m\u001b[0m\u001b[0m\n",
      "\u001b[0;32m~/anaconda3/envs/sbi/lib/python3.8/site-packages/torch/autograd/__init__.py\u001b[0m in \u001b[0;36mbackward\u001b[0;34m(tensors, grad_tensors, retain_graph, create_graph, grad_variables, inputs)\u001b[0m\n\u001b[1;32m    171\u001b[0m     \u001b[0;31m# some Python versions print out the first line of a multi-line function\u001b[0m\u001b[0;34m\u001b[0m\u001b[0;34m\u001b[0m\u001b[0;34m\u001b[0m\u001b[0m\n\u001b[1;32m    172\u001b[0m     \u001b[0;31m# calls in the traceback and some print out the last line\u001b[0m\u001b[0;34m\u001b[0m\u001b[0;34m\u001b[0m\u001b[0;34m\u001b[0m\u001b[0m\n\u001b[0;32m--> 173\u001b[0;31m     Variable._execution_engine.run_backward(  # Calls into the C++ engine to run the backward pass\n\u001b[0m\u001b[1;32m    174\u001b[0m         \u001b[0mtensors\u001b[0m\u001b[0;34m,\u001b[0m \u001b[0mgrad_tensors_\u001b[0m\u001b[0;34m,\u001b[0m \u001b[0mretain_graph\u001b[0m\u001b[0;34m,\u001b[0m \u001b[0mcreate_graph\u001b[0m\u001b[0;34m,\u001b[0m \u001b[0minputs\u001b[0m\u001b[0;34m,\u001b[0m\u001b[0;34m\u001b[0m\u001b[0;34m\u001b[0m\u001b[0m\n\u001b[1;32m    175\u001b[0m         allow_unreachable=True, accumulate_grad=True)  # Calls into the C++ engine to run the backward pass\n",
      "\u001b[0;31mKeyboardInterrupt\u001b[0m: "
     ]
    }
   ],
   "source": [
    "num_rounds = 20\n",
    "posteriors = []\n",
    "simulator, prior = prepare_for_sbi(simulator_wrapper_sorted, prior_full)\n",
    "proposal = prior\n",
    "inference = SNPE(prior=prior)\n",
    "for i in range(num_rounds):\n",
    "    theta, x = simulate_for_sbi(simulator, proposal, num_simulations=2000, num_workers=7)\n",
    "    density_estimator = inference.append_simulations(theta, x, proposal=proposal).train()\n",
    "    posterior = inference.build_posterior(density_estimator)\n",
    "    posteriors.append(posterior)\n",
    "    proposal = posterior.set_default_x(ref_obs153)\n",
    "    samples = posterior.sample((10000,))\n",
    "    if (i+1)%5==0:\n",
    "        fig, axes = analysis.pairplot(samples,\n",
    "                                limits=[[1e-3,30.], [1e-3,30.]],\n",
    "                                ticks=[[1e-3,30.], [1e-3,30.]],\n",
    "                                figsize=(5,5),\n",
    "                                points=np.array([15,3]),\n",
    "                                points_offdiag={'markersize': 6},\n",
    "                                points_colors='r');\n",
    "        plt.show()"
   ]
  },
  {
   "cell_type": "code",
   "execution_count": null,
   "metadata": {},
   "outputs": [],
   "source": []
  },
  {
   "cell_type": "markdown",
   "metadata": {},
   "source": [
    "# Roughs"
   ]
  },
  {
   "cell_type": "code",
   "execution_count": 17,
   "metadata": {},
   "outputs": [
    {
     "data": {
      "text/plain": [
       "200"
      ]
     },
     "execution_count": 17,
     "metadata": {},
     "output_type": "execute_result"
    }
   ],
   "source": [
    "len(flatten_data(ginkgo_simulator([3,3])['leaves'].reshape(-1)))"
   ]
  },
  {
   "cell_type": "code",
   "execution_count": 18,
   "metadata": {},
   "outputs": [],
   "source": [
    "test_leaves = ginkgo_simulator([3,3])['leaves']"
   ]
  },
  {
   "cell_type": "code",
   "execution_count": 26,
   "metadata": {},
   "outputs": [
    {
     "data": {
      "text/plain": [
       "tensor([[ 0.2789,  0.1414,  0.1810,  0.1582],\n",
       "        [ 0.9076,  0.4125,  0.5850,  0.5534],\n",
       "        [ 0.9416,  0.5015,  0.6067,  0.4438],\n",
       "        [ 1.2232,  0.6111,  0.8521,  0.6269],\n",
       "        [ 2.1186,  0.9789,  1.2047,  1.4282],\n",
       "        [ 2.6179,  1.0893,  1.5385,  1.8006],\n",
       "        [ 3.1777,  1.7652,  2.0254,  1.6927],\n",
       "        [ 3.4298,  1.9552,  1.9899,  1.9951],\n",
       "        [ 3.4588,  1.8966,  2.0025,  2.0776],\n",
       "        [ 3.6592,  2.1180,  2.1504,  2.0674],\n",
       "        [ 4.5140,  2.7996,  2.3537,  2.6378],\n",
       "        [ 4.5896,  2.4661,  2.5872,  2.8732],\n",
       "        [ 5.9195,  3.2004,  3.4188,  3.6194],\n",
       "        [ 6.3058,  3.8020,  3.4213,  3.6862],\n",
       "        [ 6.6549,  3.9459,  3.5146,  4.0448],\n",
       "        [ 6.6765,  3.5517,  4.4070,  3.5363],\n",
       "        [ 6.9244,  4.0057,  3.8102,  4.1593],\n",
       "        [ 7.0040,  3.5627,  3.6014,  4.8296],\n",
       "        [ 7.2273,  3.9259,  4.1781,  4.4006],\n",
       "        [ 7.2611,  4.0261,  4.1861,  4.3527],\n",
       "        [ 8.0587,  5.4537,  4.4847,  3.8814],\n",
       "        [ 8.1278,  4.5623,  4.9039,  4.6001],\n",
       "        [ 8.2829,  5.0121,  4.6799,  4.6434],\n",
       "        [ 8.9002,  5.4713,  4.9237,  5.0026],\n",
       "        [ 9.2940,  6.1956,  5.2040,  4.5697],\n",
       "        [ 9.8890,  5.1842,  6.2092,  5.6888],\n",
       "        [11.0016,  6.5272,  6.2485,  6.2744],\n",
       "        [12.6037,  6.6888,  7.4958,  7.6101],\n",
       "        [14.1333,  7.7021,  8.2676,  8.4897],\n",
       "        [14.1448,  8.2616,  8.1821,  8.0537],\n",
       "        [15.1686,  8.5522,  8.5824,  9.1259],\n",
       "        [17.5750,  9.1452, 10.0933, 11.1044],\n",
       "        [19.6135, 11.6799, 10.9985, 11.2816],\n",
       "        [19.7756, 11.9008, 11.3254, 11.0079],\n",
       "        [20.2289, 11.0530, 12.8715, 11.0140],\n",
       "        [20.9333, 12.8291, 11.6255, 11.7644],\n",
       "        [24.2326, 13.2516, 13.7131, 14.9509],\n",
       "        [32.3784, 21.5107, 18.4944, 15.6067],\n",
       "        [41.8910, 23.2028, 24.0222, 25.2864]])"
      ]
     },
     "execution_count": 26,
     "metadata": {},
     "output_type": "execute_result"
    }
   ],
   "source": [
    "test_leaves[test_leaves[:, 0].sort()[1]]\n"
   ]
  },
  {
   "cell_type": "code",
   "execution_count": null,
   "metadata": {},
   "outputs": [],
   "source": []
  }
 ],
 "metadata": {
  "kernelspec": {
   "display_name": "Python 3.8.2 ('sbi')",
   "language": "python",
   "name": "python3"
  },
  "language_info": {
   "codemirror_mode": {
    "name": "ipython",
    "version": 3
   },
   "file_extension": ".py",
   "mimetype": "text/x-python",
   "name": "python",
   "nbconvert_exporter": "python",
   "pygments_lexer": "ipython3",
   "version": "3.8.2"
  },
  "orig_nbformat": 4,
  "vscode": {
   "interpreter": {
    "hash": "13944c231e1afffeee6243f06815a541549e20966d7807d0e24091f3e6a98d40"
   }
  }
 },
 "nbformat": 4,
 "nbformat_minor": 2
}
