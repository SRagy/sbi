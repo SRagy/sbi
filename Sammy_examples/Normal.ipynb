{
 "cells": [
  {
   "cell_type": "code",
   "execution_count": 32,
   "metadata": {},
   "outputs": [],
   "source": [
    "from torch.distributions import Normal\n",
    "\n",
    "import numpy as np\n",
    "import torch\n",
    "import pickle\n",
    "from tqdm import tqdm\n",
    "from joblib import Parallel, delayed\n",
    "from pyro.distributions.empirical import Empirical\n",
    "\n",
    "# visualization\n",
    "import matplotlib as mpl\n",
    "import matplotlib.pyplot as plt\n",
    "\n",
    "# sbi\n",
    "from sbi.inference.base import infer\n",
    "from sbi.inference import SNPE, prepare_for_sbi, simulate_for_sbi\n",
    "from sbi.utils.get_nn_models import posterior_nn\n",
    "from sbi import utils\n",
    "from sbi import analysis\n",
    "\n",
    "# distances\n",
    "from scipy.spatial.distance import directed_hausdorff"
   ]
  },
  {
   "cell_type": "markdown",
   "metadata": {},
   "source": [
    "# Normal distribution"
   ]
  },
  {
   "cell_type": "code",
   "execution_count": 5,
   "metadata": {},
   "outputs": [],
   "source": [
    "def noisy_simulator(noise_param):\n",
    "    \n",
    "    def wrapped(input):\n",
    "\n",
    "        dist = Normal(input,1)\n",
    "        real_sample = dist.sample()\n",
    "        noise_dist = Normal(0,1)\n",
    "        noise_sample = noise_dist.sample()\n",
    "\n",
    "        r = np.random.random_sample()\n",
    "\n",
    "        return noise_sample if r < noise_param else real_sample\n",
    "\n",
    "\n",
    "    return wrapped\n"
   ]
  },
  {
   "cell_type": "markdown",
   "metadata": {},
   "source": [
    "Define prior."
   ]
  },
  {
   "cell_type": "code",
   "execution_count": 16,
   "metadata": {},
   "outputs": [],
   "source": [
    "prior = Normal(0,1)\n",
    "true_val = prior.sample()\n",
    "noise_param = 0.2\n",
    "obs = noisy_simulator(noise_param)(true_val)"
   ]
  },
  {
   "cell_type": "markdown",
   "metadata": {},
   "source": [
    "Simulator wrapper to produce distances."
   ]
  },
  {
   "cell_type": "code",
   "execution_count": 30,
   "metadata": {},
   "outputs": [],
   "source": [
    "# def sim_distances_wrapper(noise_param):\n",
    "\n",
    "#     simulator = noisy_simulator(noise_param)\n",
    "    \n",
    "#     def distance_sum(input):\n",
    "#         return torch.abs(simulator(input)-obs)\n",
    "\n",
    "#     return distance_sum\n",
    "\n",
    "def sim_distances_wrapper(input):\n",
    "    \n",
    "    return torch.abs(noisy_simulator(noise_param)(input)-obs).reshape(-1)"
   ]
  },
  {
   "cell_type": "code",
   "execution_count": 39,
   "metadata": {},
   "outputs": [],
   "source": [
    "def true_posterior(observation):\n",
    "    # Assumes likelihood std = 1, prior std = 1, prior mean = 0.\n",
    "    posterior_var = torch.tensor(1/2)\n",
    "    posterior_mu = posterior_var * obs\n",
    "    return Normal(posterior_mu, torch.sqrt(posterior_var))\n",
    "\n",
    "def get_dist_pdf(dist):\n",
    "    return lambda x: torch.exp(dist.log_prob(x))\n",
    "    "
   ]
  },
  {
   "cell_type": "code",
   "execution_count": 42,
   "metadata": {},
   "outputs": [
    {
     "data": {
      "text/plain": [
       "tensor(0.4153)"
      ]
     },
     "execution_count": 42,
     "metadata": {},
     "output_type": "execute_result"
    }
   ],
   "source": [
    "get_dist_pdf(true_posterior(obs))(torch.tensor(1))"
   ]
  },
  {
   "cell_type": "code",
   "execution_count": null,
   "metadata": {},
   "outputs": [],
   "source": []
  }
 ],
 "metadata": {
  "kernelspec": {
   "display_name": "Python 3.8.2 ('sbi')",
   "language": "python",
   "name": "python3"
  },
  "language_info": {
   "codemirror_mode": {
    "name": "ipython",
    "version": 3
   },
   "file_extension": ".py",
   "mimetype": "text/x-python",
   "name": "python",
   "nbconvert_exporter": "python",
   "pygments_lexer": "ipython3",
   "version": "3.8.2"
  },
  "orig_nbformat": 4,
  "vscode": {
   "interpreter": {
    "hash": "13944c231e1afffeee6243f06815a541549e20966d7807d0e24091f3e6a98d40"
   }
  }
 },
 "nbformat": 4,
 "nbformat_minor": 2
}
