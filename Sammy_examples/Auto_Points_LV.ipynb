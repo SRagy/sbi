{
 "cells": [
  {
   "cell_type": "code",
   "execution_count": 1,
   "id": "b1b78613",
   "metadata": {},
   "outputs": [
    {
     "data": {
      "text/plain": [
       "['gaussian_mixture',\n",
       " 'bernoulli_glm',\n",
       " 'lotka_volterra',\n",
       " 'two_moons',\n",
       " 'slcp',\n",
       " 'gaussian_linear',\n",
       " 'sir',\n",
       " 'gaussian_linear_uniform',\n",
       " 'slcp_distractors',\n",
       " 'bernoulli_glm_raw']"
      ]
     },
     "execution_count": 1,
     "metadata": {},
     "output_type": "execute_result"
    }
   ],
   "source": [
    "import sbibm\n",
    "import numpy as np\n",
    "import torch\n",
    "import pickle\n",
    "import pyro\n",
    "from tqdm import tqdm\n",
    "from joblib import Parallel, delayed\n",
    "from pyro.distributions.empirical import Empirical\n",
    "from functools import reduce\n",
    "from scipy.optimize import linear_sum_assignment\n",
    "import timeit\n",
    "\n",
    "# visualization\n",
    "import matplotlib as mpl\n",
    "import matplotlib.pyplot as plt\n",
    "\n",
    "# sbi\n",
    "from sbi.inference.base import infer\n",
    "from sbi.inference import SNPE, prepare_for_sbi, simulate_for_sbi\n",
    "from sbi.utils.get_nn_models import posterior_nn\n",
    "from sbi import utils\n",
    "from sbi import analysis\n",
    "\n",
    "# distances\n",
    "from scipy.spatial.distance import directed_hausdorff\n",
    "from torch.nn.functional import normalize\n",
    "\n",
    "sbibm.get_available_tasks()"
   ]
  },
  {
   "cell_type": "markdown",
   "id": "9c31d8c6",
   "metadata": {},
   "source": [
    "## Lotka Volterra"
   ]
  },
  {
   "cell_type": "markdown",
   "id": "ca1e26ee",
   "metadata": {},
   "source": [
    "### Simulator with summaries"
   ]
  },
  {
   "cell_type": "code",
   "execution_count": 2,
   "id": "baaabc47",
   "metadata": {},
   "outputs": [
    {
     "name": "stderr",
     "output_type": "stream",
     "text": [
      "/home/tt21642/anaconda3/envs/sbi/lib/python3.9/site-packages/diffeqtorch/diffeqtorch.py:29: UserWarning: JULIA_SYSIMAGE_DIFFEQTORCH not set\n",
      "  warn(\"JULIA_SYSIMAGE_DIFFEQTORCH not set\")\n",
      "/home/tt21642/anaconda3/envs/sbi/lib/python3.9/site-packages/diffeqtorch/diffeqtorch.py:32: UserWarning: Defaulting to /home/tt21642/.julia_sysimage_diffeqtorch.so\n",
      "  warn(f\"Defaulting to {default_path}\")\n"
     ]
    }
   ],
   "source": [
    "lk = sbibm.get_task(\"lotka_volterra\")  # See sbibm.get_available_tasks() for all tasks\n",
    "lk_prior = lk.get_prior()\n",
    "lk_simulator = lk.get_simulator()\n",
    "lk_observation = lk.get_observation(num_observation=1)  # 10 per task"
   ]
  },
  {
   "cell_type": "code",
   "execution_count": 7,
   "id": "e6ad1c7a",
   "metadata": {},
   "outputs": [
    {
     "name": "stderr",
     "output_type": "stream",
     "text": [
      "/home/tt21642/anaconda3/envs/sbi/lib/python3.9/site-packages/diffeqtorch/diffeqtorch.py:255: UserWarning: Creating a tensor from a list of numpy.ndarrays is extremely slow. Please consider converting the list to a single numpy.ndarray with numpy.array() before converting to a tensor. (Triggered internally at  /opt/conda/conda-bld/pytorch_1646756402876/work/torch/csrc/utils/tensor_new.cpp:210.)\n",
      "  u = torch.tensor(u).T\n"
     ]
    },
    {
     "data": {
      "text/plain": [
       "tensor([[31.1445, 54.1043,  4.0307,  0.3967,  0.2578,  0.3238,  0.6155,  1.4102,\n",
       "          3.2500,  8.6279,  1.0144, 19.4609, 87.1144, 43.1918, 13.2248,  6.3567,\n",
       "          2.7435,  1.3292,  0.6821,  0.4855]])"
      ]
     },
     "execution_count": 7,
     "metadata": {},
     "output_type": "execute_result"
    }
   ],
   "source": [
    "lk_simulator(lk_prior(num_samples=1))"
   ]
  },
  {
   "cell_type": "code",
   "execution_count": 3,
   "id": "d3301016",
   "metadata": {},
   "outputs": [
    {
     "data": {
      "text/plain": [
       "tensor([[31.7833,  1.1971,  0.2970,  0.7115,  2.9416, 11.4826, 36.0904,  0.4623,\n",
       "          0.3808,  0.9174,  0.8910, 27.0399,  4.3562,  0.7844,  0.1710,  0.1326,\n",
       "          8.7270, 16.9725,  2.7902,  0.4757]])"
      ]
     },
     "execution_count": 3,
     "metadata": {},
     "output_type": "execute_result"
    }
   ],
   "source": [
    "lk_observation"
   ]
  },
  {
   "cell_type": "code",
   "execution_count": 17,
   "id": "f44c8b16",
   "metadata": {},
   "outputs": [
    {
     "data": {
      "text/plain": [
       "tensor([[31.7833,  1.1971,  0.2970,  0.7115,  2.9416, 11.4826, 36.0904,  0.4623,\n",
       "          0.3808,  0.9174,  0.8910, 27.0399,  4.3562,  0.7844,  0.1710,  0.1326,\n",
       "          8.7270, 16.9725,  2.7902,  0.4757]])"
      ]
     },
     "execution_count": 17,
     "metadata": {},
     "output_type": "execute_result"
    }
   ],
   "source": [
    "torch.manual_seed(1000020)\n",
    "lk_simulator(lk_prior(num_samples=1))"
   ]
  },
  {
   "cell_type": "markdown",
   "id": "3b1dee5b",
   "metadata": {},
   "source": [
    "### Simulator without summaries"
   ]
  },
  {
   "cell_type": "code",
   "execution_count": 7,
   "id": "7d7177c2",
   "metadata": {},
   "outputs": [],
   "source": [
    "lkf = sbibm.get_task(\"lotka_volterra\", summary = None)  # See sbibm.get_available_tasks() for all tasks\n",
    "lkf_simulator = lkf.get_simulator()"
   ]
  },
  {
   "cell_type": "code",
   "execution_count": 11,
   "id": "fabebbb2",
   "metadata": {},
   "outputs": [],
   "source": [
    "torch.manual_seed(1000020)\n",
    "lkf_observation=lkf_simulator(lk_prior(num_samples=1))"
   ]
  },
  {
   "cell_type": "code",
   "execution_count": 16,
   "id": "c61e5edd",
   "metadata": {},
   "outputs": [
    {
     "data": {
      "text/plain": [
       "tensor([[30.0000, 31.7358, 33.4371, 35.0267, 36.3862, 37.3403, 37.6468, 37.0070,\n",
       "         35.1293, 31.8668, 27.3902, 22.2446, 17.1615, 12.7362,  9.2377,  6.6478,\n",
       "          4.8038,  3.5147,  2.6172,  1.9891,  1.5450,  1.2265,  0.9949,  0.8238,\n",
       "          0.6956,  0.5982,  0.5235,  0.4655,  0.4201,  0.3844,  0.3562,  0.3340,\n",
       "          0.3166,  0.3031,  0.2928,  0.2853,  0.2802,  0.2771,  0.2758,  0.2762,\n",
       "          0.2781,  0.2815,  0.2862,  0.2922,  0.2995,  0.3082,  0.3181,  0.3293,\n",
       "          0.3418,  0.3558,  0.3711,  0.3880,  0.4064,  0.4265,  0.4482,  0.4718,\n",
       "          0.4974,  0.5249,  0.5547,  0.5867,  0.6212,  0.6584,  0.6983,  0.7412,\n",
       "          0.7873,  0.8367,  0.8898,  0.9468,  1.0079,  1.0735,  1.1438,  1.2191,\n",
       "          1.2998,  1.3864,  1.4791,  1.5784,  1.6848,  1.7988,  1.9209,  2.0517,\n",
       "          2.1918,  2.3418,  2.5024,  2.6743,  2.8585,  3.0556,  3.2666,  3.4926,\n",
       "          3.7344,  3.9933,  4.2705,  4.5671,  4.8846,  5.2243,  5.5879,  5.9770,\n",
       "          6.3934,  6.8388,  7.3154,  7.8252,  8.3705,  8.9537,  9.5774, 10.2442,\n",
       "         10.9570, 11.7188, 12.5326, 13.4019, 14.3299, 15.3201, 16.3759, 17.5009,\n",
       "         18.6982, 19.9707, 21.3207, 22.7494, 24.2562, 25.8380, 27.4876, 29.1911,\n",
       "         30.9249, 32.6499, 34.3037, 35.7888, 36.9584, 37.6022, 37.4440, 36.1763,\n",
       "         33.5630, 29.6077, 24.6880, 19.4862, 14.6985, 10.7543,  7.7544,  5.5857,\n",
       "          4.0597,  2.9968,  2.2555,  1.7340,  1.3626,  1.0943,  0.8975,  0.7510,\n",
       "          0.6405,  0.5560,  0.4908,  0.4399,  0.4000,  0.3685,  0.3437,  0.3242,\n",
       "          0.3090,  0.2973,  0.2885,  0.2823,  0.2783,  0.2762,  0.2758,  0.2770,\n",
       "          0.2797,  0.2838,  0.2892,  0.2959,  0.3040,  0.3133,  0.3239,  0.3358,\n",
       "          0.3491,  0.3638,  0.3799,  0.3976,  0.4169,  0.4378,  0.4606,  0.4852,\n",
       "          0.5118,  0.5405,  0.5714,  0.6048,  0.6407,  0.6793,  0.7207,  0.7653,\n",
       "          0.8132,  0.8645,  0.9197,  0.9788,  1.0423,  1.1103,  1.1832,  1.2614,\n",
       "          1.3451,  1.4349,  1.5311,  1.6342,  1.7445,  1.8628,  1.9894,  2.1251,\n",
       "          2.2703,  1.0000,  1.3122,  1.7570,  2.3984,  3.3312,  4.6907,  6.6556,\n",
       "          9.4282, 13.1641, 17.8370, 23.0924, 28.2437, 32.5182, 35.4021, 36.7953,\n",
       "         36.9118, 36.0888, 34.6507, 32.8523, 30.8741, 28.8358, 26.8137, 24.8542,\n",
       "         22.9842, 21.2181, 19.5621, 18.0174, 16.5818, 15.2515, 14.0213, 12.8855,\n",
       "         11.8383, 10.8737,  9.9859,  9.1693,  8.4186,  7.7288,  7.0952,  6.5133,\n",
       "          5.9792,  5.4889,  5.0390,  4.6262,  4.2474,  3.9000,  3.5813,  3.2891,\n",
       "          3.0210,  2.7752,  2.5498,  2.3431,  2.1535,  1.9797,  1.8203,  1.6742,\n",
       "          1.5402,  1.4173,  1.3047,  1.2014,  1.1067,  1.0198,  0.9402,  0.8671,\n",
       "          0.8001,  0.7387,  0.6824,  0.6307,  0.5834,  0.5399,  0.5001,  0.4636,\n",
       "          0.4301,  0.3994,  0.3712,  0.3454,  0.3217,  0.3001,  0.2802,  0.2620,\n",
       "          0.2454,  0.2302,  0.2163,  0.2036,  0.1920,  0.1815,  0.1719,  0.1632,\n",
       "          0.1553,  0.1482,  0.1419,  0.1363,  0.1313,  0.1270,  0.1232,  0.1201,\n",
       "          0.1176,  0.1156,  0.1143,  0.1136,  0.1136,  0.1142,  0.1156,  0.1179,\n",
       "          0.1211,  0.1254,  0.1310,  0.1381,  0.1470,  0.1582,  0.1721,  0.1895,\n",
       "          0.2113,  0.2389,  0.2739,  0.3190,  0.3775,  0.4545,  0.5572,  0.6961,\n",
       "          0.8868,  1.1527,  1.5291,  2.0688,  2.8511,  3.9914,  5.6486,  8.0189,\n",
       "         11.2927, 15.5489, 20.6001, 25.8993, 30.6705, 34.2424, 36.3208, 36.9956,\n",
       "         36.5687, 35.3817, 33.7250, 31.8127, 29.7907, 27.7537, 25.7606, 23.8463,\n",
       "         22.0305, 20.3226, 18.7259, 17.2397, 15.8608, 14.5844, 13.4053, 12.3174,\n",
       "         11.3149, 10.3918,  9.5426,  8.7617,  8.0441,  7.3848,  6.7792,  6.2233,\n",
       "          5.7129,  5.2446,  4.8148,  4.4205,  4.0587,  3.7269,  3.4226,  3.1435,\n",
       "          2.8875,  2.6528,  2.4375,  2.2401,  2.0591,  1.8931,  1.7410,  1.6014,\n",
       "          1.4735,  1.3562,  1.2486,  1.1499,  1.0595,  0.9765,  0.9005,  0.8307,\n",
       "          0.7668,  0.7081,  0.6543,  0.6050,  0.5598,  0.5183,  0.4803,  0.4454,\n",
       "          0.4134,  0.3841,  0.3572,  0.3326,  0.3100,  0.2893,  0.2703,  0.2530,\n",
       "          0.2371,  0.2226]])"
      ]
     },
     "execution_count": 16,
     "metadata": {},
     "output_type": "execute_result"
    }
   ],
   "source": [
    "lkf_observation"
   ]
  },
  {
   "cell_type": "code",
   "execution_count": null,
   "id": "80afb005",
   "metadata": {},
   "outputs": [],
   "source": [
    "simulator, prior = prepare_for_sbi(rand_simulator, slcp_prior_2)\n"
   ]
  }
 ],
 "metadata": {
  "kernelspec": {
   "display_name": "Python 3 (ipykernel)",
   "language": "python",
   "name": "python3"
  },
  "language_info": {
   "codemirror_mode": {
    "name": "ipython",
    "version": 3
   },
   "file_extension": ".py",
   "mimetype": "text/x-python",
   "name": "python",
   "nbconvert_exporter": "python",
   "pygments_lexer": "ipython3",
   "version": "3.9.7"
  }
 },
 "nbformat": 4,
 "nbformat_minor": 5
}
