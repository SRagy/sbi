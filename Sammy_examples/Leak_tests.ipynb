{
 "cells": [
  {
   "cell_type": "markdown",
   "metadata": {},
   "source": [
    "# Leak Tests"
   ]
  },
  {
   "cell_type": "code",
   "execution_count": 1,
   "metadata": {},
   "outputs": [],
   "source": [
    "import numpy as np\n",
    "import torch\n",
    "import pickle\n",
    "from tqdm import tqdm\n",
    "from joblib import Parallel, delayed\n",
    "from pyro.distributions.empirical import Empirical\n",
    "\n",
    "\n",
    "# visualization\n",
    "import matplotlib as mpl\n",
    "import matplotlib.pyplot as plt\n",
    "\n",
    "# sbi\n",
    "import sbibm\n",
    "from sbibm.metrics import c2st\n",
    "from sbi.inference.base import infer\n",
    "from sbi.inference import SNPE, prepare_for_sbi, simulate_for_sbi\n",
    "from sbi.utils.get_nn_models import posterior_nn\n",
    "from sbi import utils\n",
    "from sbi import analysis\n",
    "from sbibm.metrics import c2st\n",
    "from sbi.utils import (\n",
    "    batched_mixture_mv,\n",
    "    batched_mixture_vmv,\n",
    "    check_dist_class,\n",
    "    clamp_and_warn,\n",
    "    del_entries,\n",
    "    repeat_rows,\n",
    ")\n",
    "\n",
    "\n",
    "# distances\n",
    "from scipy.spatial.distance import directed_hausdorff"
   ]
  },
  {
   "cell_type": "code",
   "execution_count": 2,
   "metadata": {},
   "outputs": [],
   "source": [
    "slcp = sbibm.get_task(\"slcp\")  # See sbibm.get_available_tasks() for all tasks\n",
    "slcp_simulator = slcp.get_simulator()\n",
    "slcp_prior = slcp.get_prior_dist()"
   ]
  },
  {
   "cell_type": "markdown",
   "metadata": {},
   "source": [
    "## Test simulate_for_sbi"
   ]
  },
  {
   "cell_type": "code",
   "execution_count": 3,
   "metadata": {},
   "outputs": [
    {
     "name": "stderr",
     "output_type": "stream",
     "text": [
      "/home/sragy/sb_inference/sbibm/sbibm/tasks/slcp/task.py:84: UserWarning: The use of `x.T` on tensors of dimension other than 2 to reverse their shape is deprecated and it will throw an error in a future release. Consider `x.mT` to transpose batches of matricesor `x.permute(*torch.arange(x.ndim - 1, -1, -1))` to reverse the dimensions of a tensor. (Triggered internally at  /opt/conda/conda-bld/pytorch_1646755853042/work/aten/src/ATen/native/TensorShape.cpp:2318.)\n",
      "  m = torch.stack(\n"
     ]
    },
    {
     "data": {
      "application/vnd.jupyter.widget-view+json": {
       "model_id": "ff92d0589acb424f81557f29d85ccab1",
       "version_major": 2,
       "version_minor": 0
      },
      "text/plain": [
       "Running 1000 simulations in 1000 batches.:   0%|          | 0/1000 [00:00<?, ?it/s]"
      ]
     },
     "metadata": {},
     "output_type": "display_data"
    },
    {
     "name": "stderr",
     "output_type": "stream",
     "text": [
      "/home/sragy/sb_inference/sbibm/sbibm/tasks/slcp/task.py:84: UserWarning: The use of `x.T` on tensors of dimension other than 2 to reverse their shape is deprecated and it will throw an error in a future release. Consider `x.mT` to transpose batches of matricesor `x.permute(*torch.arange(x.ndim - 1, -1, -1))` to reverse the dimensions of a tensor. (Triggered internally at  /opt/conda/conda-bld/pytorch_1646755853042/work/aten/src/ATen/native/TensorShape.cpp:2318.)\n",
      "  m = torch.stack(\n",
      "/home/sragy/sb_inference/sbibm/sbibm/tasks/slcp/task.py:84: UserWarning: The use of `x.T` on tensors of dimension other than 2 to reverse their shape is deprecated and it will throw an error in a future release. Consider `x.mT` to transpose batches of matricesor `x.permute(*torch.arange(x.ndim - 1, -1, -1))` to reverse the dimensions of a tensor. (Triggered internally at  /opt/conda/conda-bld/pytorch_1646755853042/work/aten/src/ATen/native/TensorShape.cpp:2318.)\n",
      "  m = torch.stack(\n",
      "/home/sragy/sb_inference/sbibm/sbibm/tasks/slcp/task.py:84: UserWarning: The use of `x.T` on tensors of dimension other than 2 to reverse their shape is deprecated and it will throw an error in a future release. Consider `x.mT` to transpose batches of matricesor `x.permute(*torch.arange(x.ndim - 1, -1, -1))` to reverse the dimensions of a tensor. (Triggered internally at  /opt/conda/conda-bld/pytorch_1646755853042/work/aten/src/ATen/native/TensorShape.cpp:2318.)\n",
      "  m = torch.stack(\n",
      "/home/sragy/sb_inference/sbibm/sbibm/tasks/slcp/task.py:84: UserWarning: The use of `x.T` on tensors of dimension other than 2 to reverse their shape is deprecated and it will throw an error in a future release. Consider `x.mT` to transpose batches of matricesor `x.permute(*torch.arange(x.ndim - 1, -1, -1))` to reverse the dimensions of a tensor. (Triggered internally at  /opt/conda/conda-bld/pytorch_1646755853042/work/aten/src/ATen/native/TensorShape.cpp:2318.)\n",
      "  m = torch.stack(\n",
      "/home/sragy/sb_inference/sbibm/sbibm/tasks/slcp/task.py:84: UserWarning: The use of `x.T` on tensors of dimension other than 2 to reverse their shape is deprecated and it will throw an error in a future release. Consider `x.mT` to transpose batches of matricesor `x.permute(*torch.arange(x.ndim - 1, -1, -1))` to reverse the dimensions of a tensor. (Triggered internally at  /opt/conda/conda-bld/pytorch_1646755853042/work/aten/src/ATen/native/TensorShape.cpp:2318.)\n",
      "  m = torch.stack(\n",
      "/home/sragy/sb_inference/sbibm/sbibm/tasks/slcp/task.py:84: UserWarning: The use of `x.T` on tensors of dimension other than 2 to reverse their shape is deprecated and it will throw an error in a future release. Consider `x.mT` to transpose batches of matricesor `x.permute(*torch.arange(x.ndim - 1, -1, -1))` to reverse the dimensions of a tensor. (Triggered internally at  /opt/conda/conda-bld/pytorch_1646755853042/work/aten/src/ATen/native/TensorShape.cpp:2318.)\n",
      "  m = torch.stack(\n",
      "/home/sragy/sb_inference/sbibm/sbibm/tasks/slcp/task.py:84: UserWarning: The use of `x.T` on tensors of dimension other than 2 to reverse their shape is deprecated and it will throw an error in a future release. Consider `x.mT` to transpose batches of matricesor `x.permute(*torch.arange(x.ndim - 1, -1, -1))` to reverse the dimensions of a tensor. (Triggered internally at  /opt/conda/conda-bld/pytorch_1646755853042/work/aten/src/ATen/native/TensorShape.cpp:2318.)\n",
      "  m = torch.stack(\n"
     ]
    },
    {
     "name": "stdout",
     "output_type": "stream",
     "text": [
      " Training neural network. Epochs trained: 30"
     ]
    }
   ],
   "source": [
    "num_rounds = 2\n",
    "posteriors = []\n",
    "simulator, prior = prepare_for_sbi(slcp_simulator, slcp_prior)\n",
    "proposal = prior\n",
    "inference = SNPE(prior=prior)\n",
    "for i in range(num_rounds):\n",
    "    if i==0:\n",
    "        theta, x= simulate_for_sbi(simulator, proposal, num_simulations=1000, num_workers=7)\n",
    "    else:\n",
    "        theta, x, leaky_theta, x_nan= simulate_for_sbi(simulator, proposal, num_simulations=1000, num_workers=7, rejection=False)\n",
    "    density_estimator = inference.append_simulations(theta, x, proposal=proposal).train(loss_function='default')\n",
    "    posterior = inference.build_posterior(density_estimator)\n",
    "    posteriors.append(posterior)\n",
    "    proposal = posterior.set_default_x(slcp.get_observation(1))\n"
   ]
  },
  {
   "cell_type": "code",
   "execution_count": null,
   "metadata": {},
   "outputs": [
    {
     "data": {
      "text/plain": [
       "<sbi.inference.snpe.snpe_c.SNPE_C at 0x7eff07e659d0>"
      ]
     },
     "execution_count": 4,
     "metadata": {},
     "output_type": "execute_result"
    }
   ],
   "source": [
    "inference.append_leaky_samples(leaky_theta,x_nan, proposal=proposal)"
   ]
  },
  {
   "cell_type": "code",
   "execution_count": null,
   "metadata": {},
   "outputs": [
    {
     "data": {
      "text/plain": [
       "[tensor([[-1.2500, -2.3579, -2.9827,  2.4257, -1.7535],\n",
       "         [-1.9779, -0.9911, -1.7435,  0.7659,  2.1989],\n",
       "         [ 1.8738,  0.1800,  2.7763, -2.3875, -0.9287],\n",
       "         ...,\n",
       "         [ 2.3221, -1.1100, -0.3076, -1.3664, -2.5923],\n",
       "         [-0.3389,  0.3128,  0.2466,  1.5127,  2.5144],\n",
       "         [-0.4597, -0.1051,  2.5996, -0.7659, -1.2074]]),\n",
       " tensor([[ 1.6812,  0.8657,  2.3035, -0.5712,  0.5634],\n",
       "         [ 0.4584, -0.5470,  0.5665, -1.3421, -1.0161],\n",
       "         [-0.4882, -0.6589, -1.9798, -1.9148,  1.6915],\n",
       "         ...,\n",
       "         [ 0.8456,  0.9800, -0.6418,  0.2291,  0.1607],\n",
       "         [ 2.7568, -1.1266, -2.2062, -0.6766, -0.2543],\n",
       "         [ 1.2405,  0.3808,  0.5539, -0.1336, -0.0436]]),\n",
       " tensor([[ 0.6310,  0.3016, -3.0781, -1.0924,  3.4347],\n",
       "         [ 1.0198, -0.3221, -3.4431, -1.5663, -0.5627],\n",
       "         [ 1.7957, -0.9637, -3.5960,  0.6478, -1.0956],\n",
       "         ...,\n",
       "         [ 1.6779,  1.1229, -5.5118, -0.3256,  2.7740],\n",
       "         [-3.3936,  0.4459,  4.4543,  0.8889,  2.8464],\n",
       "         [ 0.0553, -0.7160, -3.4262, -0.8566,  2.8431]])]"
      ]
     },
     "execution_count": 6,
     "metadata": {},
     "output_type": "execute_result"
    }
   ],
   "source": [
    "inference._theta_roundwise"
   ]
  },
  {
   "cell_type": "code",
   "execution_count": 13,
   "metadata": {},
   "outputs": [],
   "source": [
    "test = torch.tensor([[0,1],[2,3],[torch.nan, torch.nan]])"
   ]
  },
  {
   "cell_type": "code",
   "execution_count": 15,
   "metadata": {},
   "outputs": [],
   "source": [
    "nan_mask = test.isnan()"
   ]
  },
  {
   "cell_type": "code",
   "execution_count": 27,
   "metadata": {},
   "outputs": [],
   "source": [
    "batch_size = 10\n",
    "test_theta = theta[:batch_size]\n",
    "num_atoms = 3\n",
    "probs = torch.ones(batch_size, batch_size) * (1 - torch.eye(batch_size)) / (batch_size - 1)\n",
    "choices = torch.multinomial(probs, num_samples=num_atoms - 1, replacement=False)\n",
    "contrasting_theta = test_theta[choices]\n"
   ]
  },
  {
   "cell_type": "code",
   "execution_count": 28,
   "metadata": {},
   "outputs": [],
   "source": [
    "atomic_theta = torch.cat((test_theta[:, None, :], contrasting_theta), dim=1).reshape(\n",
    "    batch_size * num_atoms, -1\n",
    ")\n"
   ]
  },
  {
   "cell_type": "code",
   "execution_count": 29,
   "metadata": {},
   "outputs": [
    {
     "data": {
      "text/plain": [
       "tensor([[ 1.6812e+00,  8.6569e-01,  2.3035e+00, -5.7123e-01,  5.6345e-01],\n",
       "        [ 4.5840e-01, -5.4698e-01,  5.6648e-01, -1.3421e+00, -1.0161e+00],\n",
       "        [-4.8817e-01, -6.5886e-01, -1.9798e+00, -1.9148e+00,  1.6915e+00],\n",
       "        [ 1.1513e+00,  2.1175e+00, -1.7016e-01, -1.8569e+00,  1.8345e+00],\n",
       "        [ 1.1219e+00,  3.2805e-04,  2.8523e-01,  6.3366e-01,  8.6140e-01],\n",
       "        [ 1.8383e+00, -1.2195e-01,  2.2543e+00,  1.1066e+00,  9.5699e-01],\n",
       "        [-1.3299e+00, -6.0148e-01, -1.8700e+00,  1.0877e+00,  2.8440e-01],\n",
       "        [ 2.4770e-01,  5.0910e-01, -2.7664e+00,  2.0451e+00, -9.0699e-01],\n",
       "        [-1.2532e-01,  5.8887e-01, -2.9514e+00, -8.0513e-01,  2.2574e+00],\n",
       "        [ 5.7841e-01,  4.9260e-02,  2.2284e+00,  7.5367e-02,  1.0505e-01]])"
      ]
     },
     "execution_count": 29,
     "metadata": {},
     "output_type": "execute_result"
    }
   ],
   "source": [
    "test_theta"
   ]
  },
  {
   "cell_type": "code",
   "execution_count": 30,
   "metadata": {},
   "outputs": [
    {
     "data": {
      "text/plain": [
       "tensor([[ 1.6812e+00,  8.6569e-01,  2.3035e+00, -5.7123e-01,  5.6345e-01],\n",
       "        [ 1.1513e+00,  2.1175e+00, -1.7016e-01, -1.8569e+00,  1.8345e+00],\n",
       "        [ 1.1219e+00,  3.2805e-04,  2.8523e-01,  6.3366e-01,  8.6140e-01],\n",
       "        [ 4.5840e-01, -5.4698e-01,  5.6648e-01, -1.3421e+00, -1.0161e+00],\n",
       "        [-1.3299e+00, -6.0148e-01, -1.8700e+00,  1.0877e+00,  2.8440e-01],\n",
       "        [ 1.6812e+00,  8.6569e-01,  2.3035e+00, -5.7123e-01,  5.6345e-01],\n",
       "        [-4.8817e-01, -6.5886e-01, -1.9798e+00, -1.9148e+00,  1.6915e+00],\n",
       "        [ 1.8383e+00, -1.2195e-01,  2.2543e+00,  1.1066e+00,  9.5699e-01],\n",
       "        [ 2.4770e-01,  5.0910e-01, -2.7664e+00,  2.0451e+00, -9.0699e-01],\n",
       "        [ 1.1513e+00,  2.1175e+00, -1.7016e-01, -1.8569e+00,  1.8345e+00],\n",
       "        [ 1.6812e+00,  8.6569e-01,  2.3035e+00, -5.7123e-01,  5.6345e-01],\n",
       "        [ 2.4770e-01,  5.0910e-01, -2.7664e+00,  2.0451e+00, -9.0699e-01],\n",
       "        [ 1.1219e+00,  3.2805e-04,  2.8523e-01,  6.3366e-01,  8.6140e-01],\n",
       "        [ 1.1513e+00,  2.1175e+00, -1.7016e-01, -1.8569e+00,  1.8345e+00],\n",
       "        [-1.2532e-01,  5.8887e-01, -2.9514e+00, -8.0513e-01,  2.2574e+00],\n",
       "        [ 1.8383e+00, -1.2195e-01,  2.2543e+00,  1.1066e+00,  9.5699e-01],\n",
       "        [ 1.1513e+00,  2.1175e+00, -1.7016e-01, -1.8569e+00,  1.8345e+00],\n",
       "        [ 2.4770e-01,  5.0910e-01, -2.7664e+00,  2.0451e+00, -9.0699e-01],\n",
       "        [-1.3299e+00, -6.0148e-01, -1.8700e+00,  1.0877e+00,  2.8440e-01],\n",
       "        [ 1.1513e+00,  2.1175e+00, -1.7016e-01, -1.8569e+00,  1.8345e+00],\n",
       "        [ 1.6812e+00,  8.6569e-01,  2.3035e+00, -5.7123e-01,  5.6345e-01],\n",
       "        [ 2.4770e-01,  5.0910e-01, -2.7664e+00,  2.0451e+00, -9.0699e-01],\n",
       "        [-4.8817e-01, -6.5886e-01, -1.9798e+00, -1.9148e+00,  1.6915e+00],\n",
       "        [ 1.6812e+00,  8.6569e-01,  2.3035e+00, -5.7123e-01,  5.6345e-01],\n",
       "        [-1.2532e-01,  5.8887e-01, -2.9514e+00, -8.0513e-01,  2.2574e+00],\n",
       "        [-4.8817e-01, -6.5886e-01, -1.9798e+00, -1.9148e+00,  1.6915e+00],\n",
       "        [ 1.1513e+00,  2.1175e+00, -1.7016e-01, -1.8569e+00,  1.8345e+00],\n",
       "        [ 5.7841e-01,  4.9260e-02,  2.2284e+00,  7.5367e-02,  1.0505e-01],\n",
       "        [ 1.6812e+00,  8.6569e-01,  2.3035e+00, -5.7123e-01,  5.6345e-01],\n",
       "        [-1.3299e+00, -6.0148e-01, -1.8700e+00,  1.0877e+00,  2.8440e-01]])"
      ]
     },
     "execution_count": 30,
     "metadata": {},
     "output_type": "execute_result"
    }
   ],
   "source": [
    "atomic_theta # Note, 0, 3, 6, 9... elements are original, i.e, source of x."
   ]
  },
  {
   "cell_type": "code",
   "execution_count": 34,
   "metadata": {},
   "outputs": [],
   "source": [
    "repeated_x = repeat_rows(x[:10], num_atoms)\n",
    "log_prob_posterior = inference._neural_net.log_prob(atomic_theta, repeated_x)"
   ]
  },
  {
   "cell_type": "code",
   "execution_count": 39,
   "metadata": {},
   "outputs": [
    {
     "data": {
      "text/plain": [
       "tensor([[-10.3785, -16.4281, -19.5338],\n",
       "        [ -6.7118, -12.5611, -25.8564],\n",
       "        [ -9.3215, -10.4840, -19.1019],\n",
       "        [ -8.3395, -50.4817, -19.2718],\n",
       "        [ -3.1659,  -9.5910, -28.8611],\n",
       "        [ -8.1000, -16.6577, -13.9505],\n",
       "        [ -7.7228, -19.7075, -73.3489],\n",
       "        [-12.7285, -17.2606, -14.8602],\n",
       "        [-10.8737, -13.2673, -12.7130],\n",
       "        [ -7.8814, -20.0283,  -8.7663]], grad_fn=<ReshapeAliasBackward0>)"
      ]
     },
     "execution_count": 39,
     "metadata": {},
     "output_type": "execute_result"
    }
   ],
   "source": [
    "log_prob_posterior.reshape(batch_size,num_atoms)"
   ]
  },
  {
   "cell_type": "markdown",
   "metadata": {},
   "source": [
    "## Design loss function for leaky Theta"
   ]
  },
  {
   "cell_type": "code",
   "execution_count": 71,
   "metadata": {},
   "outputs": [],
   "source": [
    "batch_size = 20\n",
    "test_theta = torch.cat([theta[:15], leaky_theta[:5]])\n",
    "test_x = torch.cat([x[:15],x_nan[:5]])\n",
    "nan_mask = test_x.isnan()\n",
    "theta_valid = test_theta[~nan_mask.any(dim=1)]\n",
    "theta_valid_dim = theta_valid.size(0)\n",
    "num_atoms = 3\n",
    "probs = torch.ones(batch_size, batch_size) * (1 - torch.eye(batch_size)) / (batch_size - 1)\n",
    "probs = probs[~nan_mask.any(dim=1)]\n",
    "choices = torch.multinomial(probs, num_samples=num_atoms - 1, replacement=False)\n",
    "contrasting_theta = test_theta[choices]\n",
    "atomic_theta = torch.cat((theta_valid[:, None, :], contrasting_theta), dim=1).reshape(\n",
    "    theta_valid_dim * num_atoms, -1\n",
    ")\n"
   ]
  },
  {
   "cell_type": "code",
   "execution_count": 82,
   "metadata": {},
   "outputs": [],
   "source": [
    "repeated_x = repeat_rows(test_x[~nan_mask.any(dim=1)], num_atoms)\n",
    "log_prob_posterior = inference._neural_net.log_prob(atomic_theta, repeated_x).reshape(theta_valid_dim,num_atoms)"
   ]
  },
  {
   "cell_type": "code",
   "execution_count": 83,
   "metadata": {},
   "outputs": [
    {
     "data": {
      "text/plain": [
       "tensor([[-8.9588, -8.9588, -8.9588],\n",
       "        [-8.9588, -8.9588,    -inf],\n",
       "        [-8.9588, -8.9588, -8.9588],\n",
       "        [-8.9588, -8.9588,    -inf],\n",
       "        [-8.9588,    -inf, -8.9588],\n",
       "        [-8.9588, -8.9588, -8.9588],\n",
       "        [-8.9588, -8.9588, -8.9588],\n",
       "        [-8.9588, -8.9588, -8.9588],\n",
       "        [-8.9588,    -inf, -8.9588],\n",
       "        [-8.9588,    -inf, -8.9588],\n",
       "        [-8.9588, -8.9588, -8.9588],\n",
       "        [-8.9588, -8.9588, -8.9588],\n",
       "        [-8.9588, -8.9588, -8.9588],\n",
       "        [-8.9588, -8.9588, -8.9588],\n",
       "        [-8.9588, -8.9588,    -inf]])"
      ]
     },
     "execution_count": 83,
     "metadata": {},
     "output_type": "execute_result"
    }
   ],
   "source": [
    "log_prob_prior = slcp_prior.log_prob(atomic_theta).reshape(theta_valid_dim, num_atoms)\n",
    "log_prob_prior"
   ]
  },
  {
   "cell_type": "code",
   "execution_count": 87,
   "metadata": {},
   "outputs": [],
   "source": [
    "log_prob_prior[log_prob_prior==-torch.inf]=0"
   ]
  },
  {
   "cell_type": "code",
   "execution_count": 88,
   "metadata": {},
   "outputs": [
    {
     "data": {
      "text/plain": [
       "tensor([[-8.9588, -8.9588, -8.9588],\n",
       "        [-8.9588, -8.9588,  0.0000],\n",
       "        [-8.9588, -8.9588, -8.9588],\n",
       "        [-8.9588, -8.9588,  0.0000],\n",
       "        [-8.9588,  0.0000, -8.9588],\n",
       "        [-8.9588, -8.9588, -8.9588],\n",
       "        [-8.9588, -8.9588, -8.9588],\n",
       "        [-8.9588, -8.9588, -8.9588],\n",
       "        [-8.9588,  0.0000, -8.9588],\n",
       "        [-8.9588,  0.0000, -8.9588],\n",
       "        [-8.9588, -8.9588, -8.9588],\n",
       "        [-8.9588, -8.9588, -8.9588],\n",
       "        [-8.9588, -8.9588, -8.9588],\n",
       "        [-8.9588, -8.9588, -8.9588],\n",
       "        [-8.9588, -8.9588,  0.0000]])"
      ]
     },
     "execution_count": 88,
     "metadata": {},
     "output_type": "execute_result"
    }
   ],
   "source": [
    "log_prob_prior"
   ]
  },
  {
   "cell_type": "code",
   "execution_count": 90,
   "metadata": {},
   "outputs": [],
   "source": [
    "unnormalised_log_prob = log_prob_posterior-log_prob_prior"
   ]
  },
  {
   "cell_type": "code",
   "execution_count": 92,
   "metadata": {},
   "outputs": [
    {
     "data": {
      "text/plain": [
       "tensor([-2.8824e-02, -4.7183e-03, -2.7210e-01,  0.0000e+00, -3.9873e-03,\n",
       "        -6.5816e-02, -4.2861e-02, -5.0344e-02, -1.4749e-01, -8.6546e-05,\n",
       "        -3.8388e-01, -3.2427e-03, -1.0562e-04, -5.9605e-07, -9.9659e-04],\n",
       "       grad_fn=<SubBackward0>)"
      ]
     },
     "execution_count": 92,
     "metadata": {},
     "output_type": "execute_result"
    }
   ],
   "source": [
    "unnormalised_log_prob[:,0]- torch.logsumexp(unnormalised_log_prob, dim=-1)"
   ]
  },
  {
   "cell_type": "markdown",
   "metadata": {},
   "source": [
    "## All together"
   ]
  },
  {
   "cell_type": "code",
   "execution_count": 3,
   "metadata": {},
   "outputs": [
    {
     "name": "stderr",
     "output_type": "stream",
     "text": [
      "/home/sragy/sb_inference/sbibm/sbibm/tasks/slcp/task.py:84: UserWarning: The use of `x.T` on tensors of dimension other than 2 to reverse their shape is deprecated and it will throw an error in a future release. Consider `x.mT` to transpose batches of matricesor `x.permute(*torch.arange(x.ndim - 1, -1, -1))` to reverse the dimensions of a tensor. (Triggered internally at  /opt/conda/conda-bld/pytorch_1646755853042/work/aten/src/ATen/native/TensorShape.cpp:2318.)\n",
      "  m = torch.stack(\n"
     ]
    },
    {
     "data": {
      "application/vnd.jupyter.widget-view+json": {
       "model_id": "7215c7ea40ca421eab2d21b8048f9e53",
       "version_major": 2,
       "version_minor": 0
      },
      "text/plain": [
       "Running 1000 simulations in 1000 batches.:   0%|          | 0/1000 [00:00<?, ?it/s]"
      ]
     },
     "metadata": {},
     "output_type": "display_data"
    },
    {
     "name": "stderr",
     "output_type": "stream",
     "text": [
      "/home/sragy/sb_inference/sbibm/sbibm/tasks/slcp/task.py:84: UserWarning: The use of `x.T` on tensors of dimension other than 2 to reverse their shape is deprecated and it will throw an error in a future release. Consider `x.mT` to transpose batches of matricesor `x.permute(*torch.arange(x.ndim - 1, -1, -1))` to reverse the dimensions of a tensor. (Triggered internally at  /opt/conda/conda-bld/pytorch_1646755853042/work/aten/src/ATen/native/TensorShape.cpp:2318.)\n",
      "  m = torch.stack(\n",
      "/home/sragy/sb_inference/sbibm/sbibm/tasks/slcp/task.py:84: UserWarning: The use of `x.T` on tensors of dimension other than 2 to reverse their shape is deprecated and it will throw an error in a future release. Consider `x.mT` to transpose batches of matricesor `x.permute(*torch.arange(x.ndim - 1, -1, -1))` to reverse the dimensions of a tensor. (Triggered internally at  /opt/conda/conda-bld/pytorch_1646755853042/work/aten/src/ATen/native/TensorShape.cpp:2318.)\n",
      "  m = torch.stack(\n",
      "/home/sragy/sb_inference/sbibm/sbibm/tasks/slcp/task.py:84: UserWarning: The use of `x.T` on tensors of dimension other than 2 to reverse their shape is deprecated and it will throw an error in a future release. Consider `x.mT` to transpose batches of matricesor `x.permute(*torch.arange(x.ndim - 1, -1, -1))` to reverse the dimensions of a tensor. (Triggered internally at  /opt/conda/conda-bld/pytorch_1646755853042/work/aten/src/ATen/native/TensorShape.cpp:2318.)\n",
      "  m = torch.stack(\n",
      "/home/sragy/sb_inference/sbibm/sbibm/tasks/slcp/task.py:84: UserWarning: The use of `x.T` on tensors of dimension other than 2 to reverse their shape is deprecated and it will throw an error in a future release. Consider `x.mT` to transpose batches of matricesor `x.permute(*torch.arange(x.ndim - 1, -1, -1))` to reverse the dimensions of a tensor. (Triggered internally at  /opt/conda/conda-bld/pytorch_1646755853042/work/aten/src/ATen/native/TensorShape.cpp:2318.)\n",
      "  m = torch.stack(\n",
      "/home/sragy/sb_inference/sbibm/sbibm/tasks/slcp/task.py:84: UserWarning: The use of `x.T` on tensors of dimension other than 2 to reverse their shape is deprecated and it will throw an error in a future release. Consider `x.mT` to transpose batches of matricesor `x.permute(*torch.arange(x.ndim - 1, -1, -1))` to reverse the dimensions of a tensor. (Triggered internally at  /opt/conda/conda-bld/pytorch_1646755853042/work/aten/src/ATen/native/TensorShape.cpp:2318.)\n",
      "  m = torch.stack(\n",
      "/home/sragy/sb_inference/sbibm/sbibm/tasks/slcp/task.py:84: UserWarning: The use of `x.T` on tensors of dimension other than 2 to reverse their shape is deprecated and it will throw an error in a future release. Consider `x.mT` to transpose batches of matricesor `x.permute(*torch.arange(x.ndim - 1, -1, -1))` to reverse the dimensions of a tensor. (Triggered internally at  /opt/conda/conda-bld/pytorch_1646755853042/work/aten/src/ATen/native/TensorShape.cpp:2318.)\n",
      "  m = torch.stack(\n",
      "/home/sragy/sb_inference/sbibm/sbibm/tasks/slcp/task.py:84: UserWarning: The use of `x.T` on tensors of dimension other than 2 to reverse their shape is deprecated and it will throw an error in a future release. Consider `x.mT` to transpose batches of matricesor `x.permute(*torch.arange(x.ndim - 1, -1, -1))` to reverse the dimensions of a tensor. (Triggered internally at  /opt/conda/conda-bld/pytorch_1646755853042/work/aten/src/ATen/native/TensorShape.cpp:2318.)\n",
      "  m = torch.stack(\n"
     ]
    },
    {
     "name": "stdout",
     "output_type": "stream",
     "text": [
      " Neural network successfully converged after 86 epochs.ural network. Epochs trained: 42"
     ]
    },
    {
     "data": {
      "application/vnd.jupyter.widget-view+json": {
       "model_id": "85a04581ea9646319c96fad63d161196",
       "version_major": 2,
       "version_minor": 0
      },
      "text/plain": [
       "Drawing 1000 posterior samples:   0%|          | 0/1000 [00:00<?, ?it/s]"
      ]
     },
     "metadata": {},
     "output_type": "display_data"
    },
    {
     "data": {
      "application/vnd.jupyter.widget-view+json": {
       "model_id": "6a5e491606ed4833b2203058880f54a6",
       "version_major": 2,
       "version_minor": 0
      },
      "text/plain": [
       "Running 1000 simulations in 1000 batches.:   0%|          | 0/1000 [00:00<?, ?it/s]"
      ]
     },
     "metadata": {},
     "output_type": "display_data"
    },
    {
     "name": "stderr",
     "output_type": "stream",
     "text": [
      "WARNING:root:Found 186 NaN simulations and 0 Inf simulations. Training might fail. Consider setting `exclude_invalid_x=True`.\n"
     ]
    },
    {
     "name": "stdout",
     "output_type": "stream",
     "text": [
      "Using SNPE-C with atomic loss\n",
      " Neural network successfully converged after 75 epochs.ral network. Epochs trained: 8"
     ]
    },
    {
     "data": {
      "application/vnd.jupyter.widget-view+json": {
       "model_id": "43bfe71f52be40909ffbb3be7a844bf9",
       "version_major": 2,
       "version_minor": 0
      },
      "text/plain": [
       "Drawing 1000 posterior samples:   0%|          | 0/1000 [00:00<?, ?it/s]"
      ]
     },
     "metadata": {},
     "output_type": "display_data"
    },
    {
     "data": {
      "application/vnd.jupyter.widget-view+json": {
       "model_id": "1d22caffee454ab2943596127a88657d",
       "version_major": 2,
       "version_minor": 0
      },
      "text/plain": [
       "Running 1000 simulations in 1000 batches.:   0%|          | 0/1000 [00:00<?, ?it/s]"
      ]
     },
     "metadata": {},
     "output_type": "display_data"
    },
    {
     "name": "stderr",
     "output_type": "stream",
     "text": [
      "WARNING:root:Found 3024 NaN simulations and 0 Inf simulations. Training might fail. Consider setting `exclude_invalid_x=True`.\n"
     ]
    },
    {
     "name": "stdout",
     "output_type": "stream",
     "text": [
      "Using SNPE-C with atomic loss\n",
      " Neural network successfully converged after 74 epochs."
     ]
    },
    {
     "data": {
      "application/vnd.jupyter.widget-view+json": {
       "model_id": "b774b5f06fb748358c35e12a0d0ecb15",
       "version_major": 2,
       "version_minor": 0
      },
      "text/plain": [
       "Drawing 1000 posterior samples:   0%|          | 0/1000 [00:00<?, ?it/s]"
      ]
     },
     "metadata": {},
     "output_type": "display_data"
    },
    {
     "data": {
      "application/vnd.jupyter.widget-view+json": {
       "model_id": "888a97c82e854cc8bd22d43bf665f523",
       "version_major": 2,
       "version_minor": 0
      },
      "text/plain": [
       "Running 1000 simulations in 1000 batches.:   0%|          | 0/1000 [00:00<?, ?it/s]"
      ]
     },
     "metadata": {},
     "output_type": "display_data"
    },
    {
     "name": "stderr",
     "output_type": "stream",
     "text": [
      "WARNING:root:Found 13024 NaN simulations and 0 Inf simulations. Training might fail. Consider setting `exclude_invalid_x=True`.\n"
     ]
    },
    {
     "name": "stdout",
     "output_type": "stream",
     "text": [
      "Using SNPE-C with atomic loss\n",
      " Training neural network. Epochs trained: 4"
     ]
    }
   ],
   "source": [
    "num_rounds = 10\n",
    "posteriors = []\n",
    "simulator, prior = prepare_for_sbi(slcp_simulator, slcp_prior)\n",
    "proposal = prior\n",
    "inference = SNPE(prior=prior)\n",
    "for i in range(num_rounds):\n",
    "    if i==0:\n",
    "        theta, x= simulate_for_sbi(simulator, proposal, num_simulations=1000, num_workers=7)\n",
    "        density_estimator = inference.append_simulations(theta, x, proposal=proposal).train(loss_function='default')\n",
    "    else:\n",
    "        theta, x, leaky_theta, x_nan= simulate_for_sbi(simulator, proposal, num_simulations=1000, num_workers=7, rejection=False)\n",
    "        density_estimator = inference.append_simulations(theta, x, proposal=proposal)\n",
    "        density_estimator = inference.append_leaky_samples(leaky_theta, x_nan, proposal=proposal).train(loss_function='guess', exclude_invalid_x=False, training_batch_size=100, num_atoms=20)\n",
    "    posterior = inference.build_posterior(density_estimator)\n",
    "    posteriors.append(posterior)\n",
    "    proposal = posterior.set_default_x(slcp.get_observation(4))\n"
   ]
  },
  {
   "cell_type": "code",
   "execution_count": 4,
   "metadata": {},
   "outputs": [
    {
     "data": {
      "application/vnd.jupyter.widget-view+json": {
       "model_id": "90a168dd3e56434493c066c6cc48eb49",
       "version_major": 2,
       "version_minor": 0
      },
      "text/plain": [
       "Drawing 10000 posterior samples:   0%|          | 0/10000 [00:00<?, ?it/s]"
      ]
     },
     "metadata": {},
     "output_type": "display_data"
    },
    {
     "data": {
      "image/png": "[encoded data removed]",
      "text/plain": [
       "<Figure size 360x360 with 25 Axes>"
      ]
     },
     "metadata": {
      "needs_background": "light"
     },
     "output_type": "display_data"
    },
    {
     "name": "stdout",
     "output_type": "stream",
     "text": [
      "tensor(0.4301)\n"
     ]
    }
   ],
   "source": [
    "samples, acceptance_rate = posterior.sample((10000,), return_acceptance_rate=True)\n",
    "analysis.pairplot(samples,\n",
    "                    limits=[[-3,3], [-3,3],[-3,3],[-3,3],[-3,3]],\n",
    "                    ticks=[[-3,3],[-3,3],[-3,3],[-3,3],[-3,3]],\n",
    "                    figsize=(5,5),\n",
    "                    points_offdiag={'markersize': 6},\n",
    "                    points_colors='r'); \n",
    "plt.show()\n",
    "print(acceptance_rate)\n"
   ]
  },
  {
   "cell_type": "code",
   "execution_count": 5,
   "metadata": {},
   "outputs": [
    {
     "data": {
      "text/plain": [
       "tensor([0.9233])"
      ]
     },
     "execution_count": 5,
     "metadata": {},
     "output_type": "execute_result"
    }
   ],
   "source": [
    "reference_samples = slcp.get_reference_posterior_samples(4)\n",
    "c2st(samples, reference_samples)"
   ]
  },
  {
   "cell_type": "code",
   "execution_count": 5,
   "metadata": {},
   "outputs": [
    {
     "name": "stderr",
     "output_type": "stream",
     "text": [
      "WARNING:root:Found 9466 NaN simulations and 0 Inf simulations. Training might fail. Consider setting `exclude_invalid_x=True`.\n"
     ]
    },
    {
     "data": {
      "text/plain": [
       "15466"
      ]
     },
     "execution_count": 5,
     "metadata": {},
     "output_type": "execute_result"
    }
   ],
   "source": [
    "len(inference.get_simulations(exclude_invalid_x=False)[0])"
   ]
  },
  {
   "cell_type": "code",
   "execution_count": 8,
   "metadata": {},
   "outputs": [
    {
     "data": {
      "application/vnd.jupyter.widget-view+json": {
       "model_id": "d1215c22478b40379862b7cb1b63e041",
       "version_major": 2,
       "version_minor": 0
      },
      "text/plain": [
       "Drawing 1000 posterior samples:   0%|          | 0/1000 [00:00<?, ?it/s]"
      ]
     },
     "metadata": {},
     "output_type": "display_data"
    },
    {
     "name": "stderr",
     "output_type": "stream",
     "text": [
      "WARNING:root:Only 0% posterior samples are within the\n",
      "                        prior support. It may take a long time to collect the\n",
      "                        remaining 995 samples. Consider interrupting\n",
      "                        (Ctrl-C) and switching to `sample_with='mcmc'`.\n"
     ]
    }
   ],
   "source": [
    "samples, leaks, acceptance = posterior.sample((1000,), rejection=False, return_acceptance_rate=True)"
   ]
  },
  {
   "cell_type": "code",
   "execution_count": 11,
   "metadata": {},
   "outputs": [
    {
     "data": {
      "text/plain": [
       "6614"
      ]
     },
     "execution_count": 11,
     "metadata": {},
     "output_type": "execute_result"
    }
   ],
   "source": [
    "len(leaks)"
   ]
  },
  {
   "cell_type": "code",
   "execution_count": null,
   "metadata": {},
   "outputs": [],
   "source": []
  }
 ],
 "metadata": {
  "kernelspec": {
   "display_name": "Python 3.8.2 ('sbi')",
   "language": "python",
   "name": "python3"
  },
  "language_info": {
   "codemirror_mode": {
    "name": "ipython",
    "version": 3
   },
   "file_extension": ".py",
   "mimetype": "text/x-python",
   "name": "python",
   "nbconvert_exporter": "python",
   "pygments_lexer": "ipython3",
   "version": "3.8.2"
  },
  "orig_nbformat": 4,
  "vscode": {
   "interpreter": {
    "hash": "13944c231e1afffeee6243f06815a541549e20966d7807d0e24091f3e6a98d40"
   }
  }
 },
 "nbformat": 4,
 "nbformat_minor": 2
}
